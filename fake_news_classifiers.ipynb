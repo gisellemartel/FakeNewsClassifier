{
 "cells": [
  {
   "cell_type": "markdown",
   "metadata": {},
   "source": [
    "# COMP 432 Machine Learning - Term Project Fall 2020\n",
    "\n",
    "#### Student Names:\n",
    "#### Firas Sawan       ID#26487815 \n",
    "#### Giselle Martel    ID#26352936"
   ]
  },
  {
   "cell_type": "markdown",
   "metadata": {},
   "source": [
    "# FakeNewsClassifiers\n",
    "\n",
    "##### A comparison between different Machine Learning and Deep Learning models in predicting which news articles are \"Fake News\" or \"Real News\""
   ]
  },
  {
   "cell_type": "code",
   "execution_count": 1,
   "metadata": {},
   "outputs": [
    {
     "name": "stderr",
     "output_type": "stream",
     "text": [
      "[nltk_data] Downloading package punkt to\n",
      "[nltk_data]     /Users/gisellemartel/nltk_data...\n",
      "[nltk_data]   Package punkt is already up-to-date!\n",
      "[nltk_data] Downloading package wordnet to\n",
      "[nltk_data]     /Users/gisellemartel/nltk_data...\n",
      "[nltk_data]   Package wordnet is already up-to-date!\n",
      "[nltk_data] Downloading package stopwords to\n",
      "[nltk_data]     /Users/gisellemartel/nltk_data...\n",
      "[nltk_data]   Package stopwords is already up-to-date!\n"
     ]
    },
    {
     "name": "stdout",
     "output_type": "stream",
     "text": [
      "CPU times: user 1.69 s, sys: 408 ms, total: 2.1 s\n",
      "Wall time: 3.54 s\n"
     ]
    },
    {
     "data": {
      "text/plain": [
       "<torch._C.Generator at 0x7fa449347410>"
      ]
     },
     "execution_count": 1,
     "metadata": {},
     "output_type": "execute_result"
    }
   ],
   "source": [
    "%%time\n",
    "import tools.tools as tools\n",
    "import preprocess as preprocess\n",
    "import model.logistic_regression as LR\n",
    "import model.decision_tree as DT\n",
    "import model.random_forest as RF\n",
    "import model.support_vector_machine as SVC\n",
    "import model.naive_bayesian_classifier as NB\n",
    "import model.convolutional_neural_network as CNN\n",
    "\n",
    "import matplotlib\n",
    "import matplotlib as plt\n",
    "import pandas as pd\n",
    "import numpy as np\n",
    "\n",
    "import torch\n",
    "torch.manual_seed(0)\n"
   ]
  },
  {
   "cell_type": "markdown",
   "metadata": {},
   "source": [
    "# Pre-Processing Data"
   ]
  },
  {
   "cell_type": "code",
   "execution_count": 2,
   "metadata": {
    "scrolled": false
   },
   "outputs": [
    {
     "name": "stdout",
     "output_type": "stream",
     "text": [
      "CPU times: user 3 µs, sys: 0 ns, total: 3 µs\n",
      "Wall time: 6.2 µs\n",
      "\n",
      "Preprocessing of data...\n",
      "\n",
      "Parsing news dataset from file: kaggle_raw/Fake.csv\n",
      "Setting label for news dataset: FAKE\n",
      "\n",
      "Preview of Fake news Dataset\n",
      "                                                   title  \\\n",
      "0      FLASHBACK: KING OBAMA COMMUTES SENTENCES OF 22...   \n",
      "1      APPLE‚ÄôS CEO SAYS RELIGIOUS FREEDOM LAWS ARE ...   \n",
      "2      WATCH DIRTY HARRY REID ON HIS LIE ABOUT ROMNEY...   \n",
      "3      OH NO! GUESS WHO FUNDED THE SHRINE TO TED KENNEDY   \n",
      "4      BENGHAZI PANEL CALLS HILLARY TO TESTIFY UNDER ...   \n",
      "...                                                  ...   \n",
      "23445  IT BEGINS‚Ä¶RINO MEGA-DONOR Threatens Jeb Bush...   \n",
      "23446  BUSTED! Maxine Waters‚Äô Ties to Black Nationa...   \n",
      "23447  Democrat Senator Warns Mueller Not To Release ...   \n",
      "23448  MSNBC ANCHOR Flabbergasted at What Texas Teach...   \n",
      "23449  WATCH: SNOWFLAKES ASKED Communist Party Platfo...   \n",
      "\n",
      "                                                    text   subject       date  \\\n",
      "0      Just making room for Hillary President Obama t...  politics 2015-03-31   \n",
      "1      The gay mafia has a new corporate  Don. This i...  politics 2015-03-31   \n",
      "2      In case you missed it Sen. Harry Reid (R-NV), ...  politics 2015-03-31   \n",
      "3      Nothing like political cronyism to make your s...  politics 2015-03-31   \n",
      "4      Does anyone really think Hillary Clinton will ...  politics 2015-03-31   \n",
      "...                                                  ...       ...        ...   \n",
      "23445  A longtime Republican Party donor based in Flo...  politics 2018-02-18   \n",
      "23446  We reported that Maxine Waters and members of ...  politics 2018-02-18   \n",
      "23447  According to The Hill, Democrat Senator Bob Ca...  politics 2018-02-19   \n",
      "23448  If we protect every other government building ...  politics 2018-02-19   \n",
      "23449  Ami Horowitz is fantastic! Check out this man ...  politics 2018-02-19   \n",
      "\n",
      "      label  \n",
      "0      FAKE  \n",
      "1      FAKE  \n",
      "2      FAKE  \n",
      "3      FAKE  \n",
      "4      FAKE  \n",
      "...     ...  \n",
      "23445  FAKE  \n",
      "23446  FAKE  \n",
      "23447  FAKE  \n",
      "23448  FAKE  \n",
      "23449  FAKE  \n",
      "\n",
      "[23450 rows x 5 columns]\n",
      "\n",
      "Parsing news dataset from file: kaggle_raw/True.csv\n",
      "Setting label for news dataset: REAL\n",
      "\n",
      "Preview of Real news Dataset\n",
      "                                                   title  \\\n",
      "0      As U.S. budget fight looms, Republicans flip t...   \n",
      "1      U.S. military to accept transgender recruits o...   \n",
      "2      Senior U.S. Republican senator: 'Let Mr. Muell...   \n",
      "3      FBI Russia probe helped by Australian diplomat...   \n",
      "4      Trump wants Postal Service to charge 'much mor...   \n",
      "...                                                  ...   \n",
      "21412  'Fully committed' NATO backs new U.S. approach...   \n",
      "21413  LexisNexis withdrew two products from Chinese ...   \n",
      "21414  Minsk cultural hub becomes haven from authorities   \n",
      "21415  Vatican upbeat on possibility of Pope Francis ...   \n",
      "21416  Indonesia to buy $1.14 billion worth of Russia...   \n",
      "\n",
      "                                                    text       subject  \\\n",
      "0      WASHINGTON (Reuters) - The head of a conservat...  politicsNews   \n",
      "1      WASHINGTON (Reuters) - Transgender people will...  politicsNews   \n",
      "2      WASHINGTON (Reuters) - The special counsel inv...  politicsNews   \n",
      "3      WASHINGTON (Reuters) - Trump campaign adviser ...  politicsNews   \n",
      "4      SEATTLE/WASHINGTON (Reuters) - President Donal...  politicsNews   \n",
      "...                                                  ...           ...   \n",
      "21412  BRUSSELS (Reuters) - NATO allies on Tuesday we...     worldnews   \n",
      "21413  LONDON (Reuters) - LexisNexis, a provider of l...     worldnews   \n",
      "21414  MINSK (Reuters) - In the shadow of disused Sov...     worldnews   \n",
      "21415  MOSCOW (Reuters) - Vatican Secretary of State ...     worldnews   \n",
      "21416  JAKARTA (Reuters) - Indonesia will buy 11 Sukh...     worldnews   \n",
      "\n",
      "            date label  \n",
      "0     2017-12-31  REAL  \n",
      "1     2017-12-29  REAL  \n",
      "2     2017-12-31  REAL  \n",
      "3     2017-12-30  REAL  \n",
      "4     2017-12-29  REAL  \n",
      "...          ...   ...  \n",
      "21412 2017-08-22  REAL  \n",
      "21413 2017-08-22  REAL  \n",
      "21414 2017-08-22  REAL  \n",
      "21415 2017-08-22  REAL  \n",
      "21416 2017-08-22  REAL  \n",
      "\n",
      "[21417 rows x 5 columns]\n",
      "\n",
      "Parsing scraped news from file: scraped_raw/scraped_articles.json\n",
      "\n",
      "Preview of Scraped news Dataset\n",
      "1653\n",
      "                                                  title  \\\n",
      "0     Bangladesh moves hundreds of Rohingya refugees...   \n",
      "1     Hundreds of Rohingya refugees being relocated ...   \n",
      "2     'I'm the guy who's stealing Christmas': Canadi...   \n",
      "3     Before this teacher, school attendance was as ...   \n",
      "4     Amid China-US tensions, Australia finds itself...   \n",
      "...                                                 ...   \n",
      "1648  Where Dogs Roam Free Forever, Saved from Eutha...   \n",
      "1649        Video Catches Mouse’s Soul Leaving His Body   \n",
      "1650  Colorado Fast-Food Chain Sonic Now Selling Wee...   \n",
      "1651  This 93 Year Old Woman Shares The Recipes She ...   \n",
      "1652  [VIDEO] Teen Blogger Tells Girls To Stay With ...   \n",
      "\n",
      "                                                   text       date label  \n",
      "0     (CNN) Hundreds of Rohingya refugees in Banglad... 2020-12-03  REAL  \n",
      "1     Hundreds of Rohingya refugees in Bangladesh ar... 2020-12-05  REAL  \n",
      "2     As coronavirus cases rise, Manitoba Premier Br... 2020-12-04  REAL  \n",
      "3     Ranjitsinh Disale, a teacher in India, was hon... 2020-12-04  REAL  \n",
      "4     The relationship between China and Australia h... 2020-12-04  REAL  \n",
      "...                                                 ...        ...   ...  \n",
      "1648  Over 2,500 dogs are already enjoying a better ... 2020-11-20  FAKE  \n",
      "1649  Video Catches Mouse’s Soul Leaving His Body.\\n... 2020-10-31  FAKE  \n",
      "1650  Colorado Fast-Food Chain Sonic Now Selling Wee... 2014-01-03  FAKE  \n",
      "1651  The Great Depression was a time of struggle an... 2015-11-25  FAKE  \n",
      "1652  [VIDEO] Teen Blogger Tells Girls To Stay With ... 2014-12-02  FAKE  \n",
      "\n",
      "[1653 rows x 4 columns]\n",
      "\n",
      "Tokenizing fake_news dataset, this may take a few minutes...\n",
      "Tokenizing real_news dataset, this may take a few minutes...\n",
      "\n",
      "\n",
      "Splitting data: 70% training, 30% testing\n",
      "Splitting data: 70% training, 30% testing\n",
      "\n",
      "Preview of training data:\n",
      "   according  act  action    added  administration  agency  already      also  \\\n",
      "0   0.000000  0.0     0.0  0.11758             0.0     0.0      0.0  0.034190   \n",
      "1   0.000000  0.0     0.0  0.00000             0.0     0.0      0.0  0.000000   \n",
      "2   0.000000  0.0     0.0  0.00000             0.0     0.0      0.0  0.056262   \n",
      "3   0.309638  0.0     0.0  0.00000             0.0     0.0      0.0  0.219640   \n",
      "4   0.000000  0.0     0.0  0.00000             0.0     0.0      0.0  0.000000   \n",
      "\n",
      "    america  american  ...      went  whether     white  without     woman  \\\n",
      "0  0.050219  0.000000  ...  0.000000      0.0  0.089515  0.00000  0.000000   \n",
      "1  0.000000  0.000000  ...  0.000000      0.0  0.000000  0.22071  0.000000   \n",
      "2  0.000000  0.070042  ...  0.000000      0.0  0.000000  0.00000  0.000000   \n",
      "3  0.000000  0.000000  ...  0.000000      0.0  0.000000  0.00000  0.117846   \n",
      "4  0.000000  0.000000  ...  0.055009      0.0  0.000000  0.00000  0.654008   \n",
      "\n",
      "       work     world      year  yet  york  \n",
      "0  0.100568  0.000000  0.035619  0.0   0.0  \n",
      "1  0.000000  0.204303  0.000000  0.0   0.0  \n",
      "2  0.082747  0.000000  0.000000  0.0   0.0  \n",
      "3  0.000000  0.000000  0.000000  0.0   0.0  \n",
      "4  0.000000  0.000000  0.032561  0.0   0.0  \n",
      "\n",
      "[5 rows x 216 columns]\n",
      "       label\n",
      "28471      0\n",
      "43781      0\n",
      "15412      1\n",
      "13826      1\n",
      "12401      1\n",
      "\n"
     ]
    },
    {
     "data": {
      "text/plain": [
       "(       according       act  action    added  administration    agency  \\\n",
       " 0       0.000000  0.000000     0.0  0.11758             0.0  0.000000   \n",
       " 1       0.000000  0.000000     0.0  0.00000             0.0  0.000000   \n",
       " 2       0.000000  0.000000     0.0  0.00000             0.0  0.000000   \n",
       " 3       0.309638  0.000000     0.0  0.00000             0.0  0.000000   \n",
       " 4       0.000000  0.000000     0.0  0.00000             0.0  0.000000   \n",
       " ...          ...       ...     ...      ...             ...       ...   \n",
       " 32559   0.000000  0.000000     0.0  0.00000             0.0  0.000000   \n",
       " 32560   0.000000  0.000000     0.0  0.31105             0.0  0.000000   \n",
       " 32561   0.322885  0.199247     0.0  0.00000             0.0  0.000000   \n",
       " 32562   0.072307  0.000000     0.0  0.00000             0.0  0.085375   \n",
       " 32563   0.000000  0.000000     0.0  0.00000             0.0  0.000000   \n",
       " \n",
       "         already      also   america  american  ...      went  whether  \\\n",
       " 0      0.000000  0.034190  0.050219  0.000000  ...  0.000000      0.0   \n",
       " 1      0.000000  0.000000  0.000000  0.000000  ...  0.000000      0.0   \n",
       " 2      0.000000  0.056262  0.000000  0.070042  ...  0.000000      0.0   \n",
       " 3      0.000000  0.219640  0.000000  0.000000  ...  0.000000      0.0   \n",
       " 4      0.000000  0.000000  0.000000  0.000000  ...  0.055009      0.0   \n",
       " ...         ...       ...       ...       ...  ...       ...      ...   \n",
       " 32559  0.000000  0.000000  0.000000  0.000000  ...  0.000000      0.0   \n",
       " 32560  0.000000  0.120595  0.000000  0.000000  ...  0.000000      0.0   \n",
       " 32561  0.000000  0.000000  0.000000  0.000000  ...  0.000000      0.0   \n",
       " 32562  0.085998  0.051291  0.000000  0.000000  ...  0.000000      0.0   \n",
       " 32563  0.127274  0.227725  0.000000  0.094500  ...  0.000000      0.0   \n",
       " \n",
       "           white   without     woman      work     world      year       yet  \\\n",
       " 0      0.089515  0.000000  0.000000  0.100568  0.000000  0.035619  0.000000   \n",
       " 1      0.000000  0.220710  0.000000  0.000000  0.204303  0.000000  0.000000   \n",
       " 2      0.000000  0.000000  0.000000  0.082747  0.000000  0.000000  0.000000   \n",
       " 3      0.000000  0.000000  0.117846  0.000000  0.000000  0.000000  0.000000   \n",
       " 4      0.000000  0.000000  0.654008  0.000000  0.000000  0.032561  0.000000   \n",
       " ...         ...       ...       ...       ...       ...       ...       ...   \n",
       " 32559  0.000000  0.000000  0.000000  0.243533  0.000000  0.000000  0.000000   \n",
       " 32560  0.000000  0.000000  0.000000  0.000000  0.000000  0.062818  0.104309   \n",
       " 32561  0.000000  0.000000  0.000000  0.000000  0.000000  0.000000  0.000000   \n",
       " 32562  0.000000  0.000000  0.000000  0.000000  0.152610  0.053435  0.088728   \n",
       " 32563  0.000000  0.121998  0.000000  0.000000  0.000000  0.000000  0.000000   \n",
       " \n",
       "            york  \n",
       " 0      0.000000  \n",
       " 1      0.000000  \n",
       " 2      0.000000  \n",
       " 3      0.000000  \n",
       " 4      0.000000  \n",
       " ...         ...  \n",
       " 32559  0.000000  \n",
       " 32560  0.100508  \n",
       " 32561  0.000000  \n",
       " 32562  0.000000  \n",
       " 32563  0.000000  \n",
       " \n",
       " [32564 rows x 216 columns],\n",
       "        according       act    action  added  administration  agency  already  \\\n",
       " 0       0.000000  0.000000  0.000000    0.0        0.000000     0.0      0.0   \n",
       " 1       0.000000  0.000000  0.000000    0.0        0.000000     0.0      0.0   \n",
       " 2       0.000000  0.278531  0.135377    0.0        0.000000     0.0      0.0   \n",
       " 3       0.000000  0.206042  0.100145    0.0        0.000000     0.0      0.0   \n",
       " 4       0.141768  0.000000  0.000000    0.0        0.000000     0.0      0.0   \n",
       " ...          ...       ...       ...    ...             ...     ...      ...   \n",
       " 13951   0.000000  0.000000  0.000000    0.0        0.000000     0.0      0.0   \n",
       " 13952   0.000000  0.000000  0.000000    0.0        0.000000     0.0      0.0   \n",
       " 13953   0.000000  0.000000  0.000000    0.0        0.000000     0.0      0.0   \n",
       " 13954   0.000000  0.000000  0.000000    0.0        0.000000     0.0      0.0   \n",
       " 13955   0.069557  0.084191  0.081840    0.0        0.147354     0.0      0.0   \n",
       " \n",
       "            also   america  american  ...  went  whether     white  without  \\\n",
       " 0      0.000000  0.000000  0.000000  ...   0.0      0.0  0.222452      0.0   \n",
       " 1      0.000000  0.000000  0.000000  ...   0.0      0.0  0.000000      0.0   \n",
       " 2      0.000000  0.000000  0.000000  ...   0.0      0.0  0.000000      0.0   \n",
       " 3      0.060959  0.000000  0.000000  ...   0.0      0.0  0.000000      0.0   \n",
       " 4      0.000000  0.000000  0.000000  ...   0.0      0.0  0.265137      0.0   \n",
       " ...         ...       ...       ...  ...   ...      ...       ...      ...   \n",
       " 13951  0.000000  0.000000  0.000000  ...   0.0      0.0  0.000000      0.0   \n",
       " 13952  0.000000  0.000000  0.128903  ...   0.0      0.0  0.000000      0.0   \n",
       " 13953  0.000000  0.000000  0.000000  ...   0.0      0.0  0.000000      0.0   \n",
       " 13954  0.000000  0.127606  0.054281  ...   0.0      0.0  0.000000      0.0   \n",
       " 13955  0.000000  0.145675  0.000000  ...   0.0      0.0  0.000000      0.0   \n",
       " \n",
       "           woman     work  world      year  yet      york  \n",
       " 0      0.000000  0.00000    0.0  0.000000  0.0  0.000000  \n",
       " 1      0.000000  0.14943    0.0  0.000000  0.0  0.000000  \n",
       " 2      0.133079  0.00000    0.0  0.084935  0.0  0.000000  \n",
       " 3      0.000000  0.00000    0.0  0.000000  0.0  0.100777  \n",
       " 4      0.000000  0.00000    0.0  0.104652  0.0  0.167857  \n",
       " ...         ...      ...    ...       ...  ...       ...  \n",
       " 13951  0.000000  0.00000    0.0  0.000000  0.0  0.000000  \n",
       " 13952  0.000000  0.00000    0.0  0.000000  0.0  0.000000  \n",
       " 13953  0.000000  0.00000    0.0  0.207523  0.0  0.000000  \n",
       " 13954  0.070472  0.00000    0.0  0.000000  0.0  0.144284  \n",
       " 13955  0.000000  0.00000    0.0  0.000000  0.0  0.000000  \n",
       " \n",
       " [13956 rows x 216 columns],\n",
       "        label\n",
       " 28471      0\n",
       " 43781      0\n",
       " 15412      1\n",
       " 13826      1\n",
       " 12401      1\n",
       " ...      ...\n",
       " 21243      1\n",
       " 45891      1\n",
       " 42613      0\n",
       " 43567      0\n",
       " 2732       1\n",
       " \n",
       " [32564 rows x 1 columns],\n",
       "        label\n",
       " 39412      0\n",
       " 30520      0\n",
       " 901        1\n",
       " 17833      1\n",
       " 14232      1\n",
       " ...      ...\n",
       " 12816      1\n",
       " 16224      1\n",
       " 39501      0\n",
       " 20159      1\n",
       " 7091       1\n",
       " \n",
       " [13956 rows x 1 columns])"
      ]
     },
     "execution_count": 2,
     "metadata": {},
     "output_type": "execute_result"
    }
   ],
   "source": [
    "%time\n",
    "# change param of use_full_dataset to True to use full data set\n",
    "# Warning: may take an hour or longer to train all models using full dataset!)\n",
    "use_full_dataset = True\n",
    "\n",
    "if(not use_full_dataset) : tools.set_results_dir(\"./results/mock_results/\")\n",
    "\n",
    "# returns preprocessed data for ML models and CNN model\n",
    "# ML data is vectorized with an idf vectorizer and CNN data is vectorized with a Count vectorizer\n",
    "ml_data, cnn_data = preprocess.preprocess(use_full_dataset)\n",
    "\n",
    "X_train, X_test, y_train, y_test = ml_data"
   ]
  },
  {
   "cell_type": "markdown",
   "metadata": {},
   "source": [
    "# Logistic Regression Classifier \n",
    "## Hyperparameter search + training"
   ]
  },
  {
   "cell_type": "code",
   "execution_count": 3,
   "metadata": {},
   "outputs": [
    {
     "name": "stdout",
     "output_type": "stream",
     "text": [
      "CPU times: user 3 µs, sys: 0 ns, total: 3 µs\n",
      "Wall time: 5.96 µs\n",
      "Testing Logistic Regression Classifier ...\n",
      "\n",
      "Fitting data to LogisticRegression Classifier, this may take a while...\n",
      "52.233% training accuracy for C=0.000001\n",
      "52.233% training accuracy for C=0.000010\n",
      "52.233% training accuracy for C=0.000100\n",
      "84.778% training accuracy for C=0.001000\n",
      "88.328% training accuracy for C=0.010000\n",
      "90.364% training accuracy for C=0.100000\n",
      "91.015% training accuracy for C=1.000000\n",
      "90.987% training accuracy for C=10.000000\n",
      "90.972% training accuracy for C=100.000000\n",
      "90.972% training accuracy for C=1000.000000\n",
      "90.972% training accuracy for C=10000.000000\n",
      "90.972% training accuracy for C=100000.000000\n",
      "90.972% training accuracy for C=1000000.000000\n",
      "Fitting 5 folds for each of 13 candidates, totalling 65 fits\n"
     ]
    },
    {
     "name": "stderr",
     "output_type": "stream",
     "text": [
      "[Parallel(n_jobs=1)]: Using backend SequentialBackend with 1 concurrent workers.\n",
      "[Parallel(n_jobs=1)]: Done  65 out of  65 | elapsed:   26.6s finished\n"
     ]
    }
   ],
   "source": [
    "%time\n",
    "# Logisitic Regression Classifier\n",
    "print(\"Testing Logistic Regression Classifier ...\\n\")\n",
    "\n",
    "# set the hyperparams\n",
    "C = np.logspace(-6,6,13)\n",
    "param_grid = {\"C\":C}\n",
    "\n",
    "# fetch all the estimators given the chosen hyperparameters\n",
    "estimators = LR.train_all_estimators(X_train, y_train, C)\n",
    "\n",
    "# perform hyperparam search\n",
    "grid_search = LR.perform_hyperparam_grid_search(X_train,y_train, param_grid)\n",
    "\n",
    "best_estimator = grid_search.best_estimator_\n",
    "hyperparams = grid_search.best_params_\n",
    "score = grid_search.best_score_*100\n"
   ]
  },
  {
   "cell_type": "markdown",
   "metadata": {},
   "source": [
    "## Calculate estimator scores and overall overfitting"
   ]
  },
  {
   "cell_type": "code",
   "execution_count": 4,
   "metadata": {},
   "outputs": [
    {
     "name": "stdout",
     "output_type": "stream",
     "text": [
      "\n",
      "Logistic Regression overfitting: 0.085\n",
      "\n",
      "Best LogisticRegression estimator accuracy: 90.692%\n",
      "Hyperparams:\n",
      "C: 10.0\n",
      "\n"
     ]
    }
   ],
   "source": [
    "# calculate the training and testing scores and plot the result\n",
    "trn_scores, test_scores = tools.calculate_estimator_scores([X_train, X_test, y_train, y_test], estimators)\n",
    "\n",
    "# calculate model overfitting\n",
    "overfitting = tools.determine_overfitting(trn_scores,test_scores)\n",
    "print(\"\\nLogistic Regression overfitting: {:.3f}\\n\".format(overfitting))\n",
    "\n",
    "# display details of best estimator\n",
    "tools.display_best_estimator(score, \"LogisticRegression\", hyperparams)\n"
   ]
  },
  {
   "cell_type": "code",
   "execution_count": 5,
   "metadata": {},
   "outputs": [
    {
     "data": {
      "image/png": "[encoded data removed]",
      "text/plain": [
       "<Figure size 432x288 with 1 Axes>"
      ]
     },
     "metadata": {
      "needs_background": "light"
     },
     "output_type": "display_data"
    }
   ],
   "source": [
    "# plot the scores of each estimator (see test_results or results folder for png files of graphs)\n",
    "tools.plot_estimator_scores(\"LogisticRegression\",trn_scores,test_scores)"
   ]
  },
  {
   "cell_type": "markdown",
   "metadata": {},
   "source": [
    "## Classify Data"
   ]
  },
  {
   "cell_type": "code",
   "execution_count": 6,
   "metadata": {},
   "outputs": [
    {
     "name": "stdout",
     "output_type": "stream",
     "text": [
      "Printing metrics...\n",
      "mean squared error: 9.766%\n",
      "accuracy: 90.234%\n",
      "recall: 90.430%\n",
      "precision: 90.644%\n",
      "f1: 90.537%\n",
      "jacccard: 82.710%\n",
      "\n",
      "CPU times: user 141 ms, sys: 17.3 ms, total: 158 ms\n",
      "Wall time: 110 ms\n"
     ]
    },
    {
     "data": {
      "text/plain": [
       "<Figure size 432x288 with 0 Axes>"
      ]
     },
     "metadata": {},
     "output_type": "display_data"
    },
    {
     "data": {
      "image/png": "[encoded data removed]",
      "text/plain": [
       "<Figure size 792x288 with 2 Axes>"
      ]
     },
     "metadata": {},
     "output_type": "display_data"
    }
   ],
   "source": [
    "%%time\n",
    "# use best estimator to make predictions\n",
    "y_pred = LR.logistic_regression_predict(best_estimator, X_test)\n",
    "tools.display_prediction_scores(y_test,y_pred)\n",
    "\n",
    "tools.plot_predicted_labels(y_test, y_pred, \"LogisticRegression\")"
   ]
  },
  {
   "cell_type": "markdown",
   "metadata": {},
   "source": [
    "## Confusion Matrix"
   ]
  },
  {
   "cell_type": "code",
   "execution_count": 7,
   "metadata": {},
   "outputs": [
    {
     "name": "stdout",
     "output_type": "stream",
     "text": [
      "Plotting confusion matrix for LogisticRegression Classifier...\n"
     ]
    },
    {
     "data": {
      "image/png": "[encoded data removed]",
      "text/plain": [
       "<Figure size 432x288 with 2 Axes>"
      ]
     },
     "metadata": {
      "needs_background": "light"
     },
     "output_type": "display_data"
    }
   ],
   "source": [
    "tools.plot_confusion_matrix(y_test,y_pred,\"LogisticRegression\")"
   ]
  },
  {
   "cell_type": "markdown",
   "metadata": {},
   "source": [
    "\n",
    "\n",
    "\n",
    "\n",
    "\n",
    "# Decision Tree Classifier\n",
    "## Hyperparameter search + training"
   ]
  },
  {
   "cell_type": "code",
   "execution_count": null,
   "metadata": {},
   "outputs": [
    {
     "name": "stdout",
     "output_type": "stream",
     "text": [
      "CPU times: user 3 µs, sys: 1 µs, total: 4 µs\n",
      "Wall time: 5.96 µs\n",
      "Testing Decision Tree Classifier ...\n",
      "\n",
      "Fitting data to DecisionTree, this may take a while...\n",
      "71.991% training accuracy for max_depth=2.000\n",
      "76.262% training accuracy for max_depth=4.000\n",
      "80.730% training accuracy for max_depth=6.000\n"
     ]
    }
   ],
   "source": [
    "%time\n",
    "print(\"Testing Decision Tree Classifier ...\\n\")\n",
    "\n",
    "# set the hyperparams\n",
    "D = np.linspace(2,100,50)\n",
    "param_grid = {\"max_depth\":D}\n",
    "\n",
    "# fetch all the estimators given the chosen hyperparameters\n",
    "estimators = DT.train_all_estimators(X_train, y_train, D)\n",
    "\n",
    "# perform hyperparam search\n",
    "grid_search = DT.perform_hyperparam_grid_search(X_train,y_train, param_grid)\n",
    "\n",
    "best_estimator = grid_search.best_estimator_\n",
    "hyperparams = grid_search.best_params_\n",
    "score = grid_search.best_score_ * 100"
   ]
  },
  {
   "cell_type": "markdown",
   "metadata": {},
   "source": [
    "## Plot Features Importances"
   ]
  },
  {
   "cell_type": "code",
   "execution_count": null,
   "metadata": {},
   "outputs": [],
   "source": [
    "tools.plot_feature_importances(X_train, best_estimator, \"DecisionTree\", savefig=True)"
   ]
  },
  {
   "cell_type": "markdown",
   "metadata": {},
   "source": [
    "## Calculate estimator scores and overall overfitting"
   ]
  },
  {
   "cell_type": "code",
   "execution_count": null,
   "metadata": {},
   "outputs": [],
   "source": [
    "%%time\n",
    "# calculate the training and testing scores and plot the result\n",
    "trn_scores, test_scores = tools.calculate_estimator_scores([X_train, X_test, y_train, y_test], estimators)\n",
    "\n",
    "# calculate model overfitting\n",
    "overfitting = tools.determine_overfitting(trn_scores,test_scores)\n",
    "print(\"\\nDecision Tree overfitting: {:.3f}\\n\".format(overfitting))\n",
    "\n",
    "# plot the scores of each estimator\n",
    "tools.plot_estimator_scores(\"DecisionTree\",trn_scores,test_scores)\n",
    "\n",
    "# display details of best estimator\n",
    "tools.display_best_estimator(score, \"DecisionTree\", hyperparams)"
   ]
  },
  {
   "cell_type": "markdown",
   "metadata": {},
   "source": [
    "## Classify Data"
   ]
  },
  {
   "cell_type": "code",
   "execution_count": null,
   "metadata": {},
   "outputs": [],
   "source": [
    "# use best estimator to make predictions\n",
    "y_pred = DT.decision_tree_predict(best_estimator, X_test)\n",
    "tools.display_prediction_scores(y_test,y_pred)\n",
    "\n",
    "tools.plot_predicted_labels(y_test, y_pred, \"DecisionTree\")"
   ]
  },
  {
   "cell_type": "markdown",
   "metadata": {},
   "source": [
    "## Confusion Matrix"
   ]
  },
  {
   "cell_type": "code",
   "execution_count": null,
   "metadata": {},
   "outputs": [],
   "source": [
    "tools.plot_confusion_matrix(y_test,y_pred,\"DecisionTree\")"
   ]
  },
  {
   "cell_type": "markdown",
   "metadata": {},
   "source": [
    "# Random Forest Classifier\n",
    "## Hyperparameter search + training"
   ]
  },
  {
   "cell_type": "code",
   "execution_count": null,
   "metadata": {},
   "outputs": [],
   "source": [
    "%time\n",
    "\n",
    "print(\"Testing Random Forest Classifier ...\\n\")\n",
    "\n",
    "# set the hyperparams\n",
    "D = np.linspace(2,14,7)\n",
    "N = np.linspace(2,20,10, dtype=\"int32\")\n",
    "\n",
    "param_grid = {\"max_depth\":D, \"n_estimators\": N}\n",
    "\n",
    "# fetch all the estimators given the chosen hyperparameters\n",
    "estimators = RF.train_all_estimators(X_train,y_train,D,N)\n",
    "\n",
    "# perform hyperparam search\n",
    "grid_search = RF.perform_hyperparam_grid_search(X_train,y_train, param_grid)\n",
    "\n",
    "best_estimator = grid_search.best_estimator_\n",
    "hyperparams = grid_search.best_params_\n",
    "score = grid_search.best_score_*100"
   ]
  },
  {
   "cell_type": "markdown",
   "metadata": {},
   "source": [
    "## Plot Feature Importances"
   ]
  },
  {
   "cell_type": "code",
   "execution_count": null,
   "metadata": {},
   "outputs": [],
   "source": [
    "tools.plot_feature_importances(X_train, best_estimator, \"RandomForest\")"
   ]
  },
  {
   "cell_type": "markdown",
   "metadata": {},
   "source": [
    "## Calculate Estimator scores and Overall Overfitting"
   ]
  },
  {
   "cell_type": "code",
   "execution_count": null,
   "metadata": {},
   "outputs": [],
   "source": [
    "# calculate the training and testing scores and plot the result\n",
    "trn_scores, test_scores = tools.calculate_estimator_scores([X_train, X_test, y_train, y_test], estimators)\n",
    "\n",
    "# calculate model overfitting\n",
    "overfitting = tools.determine_overfitting(trn_scores,test_scores)\n",
    "print(\"\\nRandom Forest overfitting: {:.3f}\\n\".format(overfitting))\n",
    "\n",
    "# plot the scores of each estimator\n",
    "tools.plot_estimator_scores(\"RandomForest\",trn_scores,test_scores)\n",
    "\n",
    "# display details of best estimator\n",
    "tools.display_best_estimator(score, \"RandomForest\", hyperparams)"
   ]
  },
  {
   "cell_type": "markdown",
   "metadata": {},
   "source": [
    "## Classify Data"
   ]
  },
  {
   "cell_type": "code",
   "execution_count": null,
   "metadata": {},
   "outputs": [],
   "source": [
    "# use best estimator to make predictions\n",
    "y_pred = RF.random_forest_predict(best_estimator, X_test)\n",
    "\n",
    "tools.plot_predicted_labels(y_test, y_pred, \"RandomForest\")"
   ]
  },
  {
   "cell_type": "markdown",
   "metadata": {},
   "source": [
    "## Confusion Matrix"
   ]
  },
  {
   "cell_type": "code",
   "execution_count": null,
   "metadata": {},
   "outputs": [],
   "source": [
    "tools.plot_confusion_matrix(y_test,y_pred,\"RandomForest\")"
   ]
  },
  {
   "cell_type": "markdown",
   "metadata": {},
   "source": [
    "# Support Vector Machine Classifier\n",
    "## Hyperparameter search + training"
   ]
  },
  {
   "cell_type": "code",
   "execution_count": null,
   "metadata": {},
   "outputs": [],
   "source": [
    "%time\n",
    "print(\"Testing SVM Classifier ...\\n\")\n",
    "\n",
    "# set the hyperparams\n",
    "C = np.logspace(-2,3,5)\n",
    "G = np.logspace(-2,3,5)\n",
    "K = [\"rbf\", \"linear\"]\n",
    "\n",
    "param_grid = {\"C\":C, \"gamma\": G, \"kernel\": K}\n",
    "\n",
    "# fetch all the estimators given the chosen hyperparameters\n",
    "estimators = SVC.train_all_estimators(X_train, y_train, C, G, K)\n",
    "\n",
    "# perform hyperparam search\n",
    "grid_search = SVC.perform_hyperparam_grid_search(X_train,y_train, param_grid)\n",
    "\n",
    "best_estimator = grid_search.best_estimator_\n",
    "hyperparams = grid_search.best_params_\n",
    "score = grid_search.best_score_*100"
   ]
  },
  {
   "cell_type": "markdown",
   "metadata": {},
   "source": [
    "## Calculate Estimator scores and Overall Overfitting"
   ]
  },
  {
   "cell_type": "code",
   "execution_count": null,
   "metadata": {},
   "outputs": [],
   "source": [
    "# calculate the training and testing scores and plot the result\n",
    "trn_scores, test_scores = tools.calculate_estimator_scores([X_train, X_test, y_train, y_test], estimators)\n",
    "\n",
    "# calculate model overfitting\n",
    "overfitting = tools.determine_overfitting(trn_scores,test_scores)\n",
    "print(\"\\nSVC overfitting: {:.3f}\\n\".format(overfitting))\n",
    "\n",
    "# plot the scores of each estimator\n",
    "tools.plot_estimator_scores(\"SVC\",trn_scores,test_scores)\n",
    "\n",
    "# display details of best estimator\n",
    "tools.display_best_estimator(score, \"SVC\", hyperparams)\n"
   ]
  },
  {
   "cell_type": "markdown",
   "metadata": {},
   "source": [
    "## Classify Data"
   ]
  },
  {
   "cell_type": "code",
   "execution_count": null,
   "metadata": {},
   "outputs": [],
   "source": [
    "# use best estimator to make predictions\n",
    "y_pred = SVC.support_vector_machine_predict(best_estimator, X_test)\n",
    "\n",
    "tools.plot_predicted_labels(y_test, y_pred, \"SVC\")\n",
    "tools.display_prediction_scores(y_test,y_pred)"
   ]
  },
  {
   "cell_type": "markdown",
   "metadata": {},
   "source": [
    "## Confusion Matrix"
   ]
  },
  {
   "cell_type": "code",
   "execution_count": null,
   "metadata": {},
   "outputs": [],
   "source": [
    "tools.plot_confusion_matrix(y_test,y_pred,\"SVC\")"
   ]
  },
  {
   "cell_type": "markdown",
   "metadata": {},
   "source": [
    "# Naive Bayes Classifier\n",
    "## Hyperparameter search + training"
   ]
  },
  {
   "cell_type": "code",
   "execution_count": null,
   "metadata": {},
   "outputs": [],
   "source": [
    "print(\"Testing Naive Bayesian Classifier ...\\n\")\n",
    "\n",
    "# set the hyperparams\n",
    "A = np.logspace(0,5,51)\n",
    "F = [True, False]\n",
    "param_grid = {\"alpha\":A, \"fit_prior\":F}\n",
    "\n",
    "# fetch all the estimators given the chosen hyperparameters\n",
    "estimators = NB.train_all_estimators(X_train, y_train, A , F)\n",
    "\n",
    "# perform hyperparam search\n",
    "grid_search = NB.perform_hyperparam_grid_search(X_train,y_train, param_grid)\n",
    "\n",
    "best_estimator = grid_search.best_estimator_\n",
    "hyperparams = grid_search.best_params_\n",
    "score = grid_search.best_score_*100\n"
   ]
  },
  {
   "cell_type": "markdown",
   "metadata": {},
   "source": [
    "## Calculate Estimator scores and Overall Overfitting"
   ]
  },
  {
   "cell_type": "code",
   "execution_count": null,
   "metadata": {},
   "outputs": [],
   "source": [
    "# calculate the training and testing scores and plot the result\n",
    "trn_scores, test_scores = tools.calculate_estimator_scores([X_train, X_test, y_train, y_test], estimators)\n",
    "\n",
    "# calculate model overfitting\n",
    "overfitting = tools.determine_overfitting(trn_scores,test_scores)\n",
    "print(\"\\nNaive Bayes overfitting: {:.3f}\\n\".format(overfitting))\n",
    "\n",
    "# plot the scores of each estimator\n",
    "tools.plot_estimator_scores(\"NaiveBayes\",trn_scores,test_scores)\n",
    "\n",
    "# display details of best estimator\n",
    "tools.display_best_estimator(score, \"NaiveBayes\", hyperparams)"
   ]
  },
  {
   "cell_type": "markdown",
   "metadata": {},
   "source": [
    "## Classify Data"
   ]
  },
  {
   "cell_type": "code",
   "execution_count": null,
   "metadata": {},
   "outputs": [],
   "source": [
    "# use best estimator to make predictions\n",
    "y_pred = NB.naive_bayesian_predict(best_estimator, X_test)\n",
    "\n",
    "tools.plot_predicted_labels(y_test, y_pred, \"NaiveBayes\", True)\n",
    "tools.display_prediction_scores(y_test,y_pred)"
   ]
  },
  {
   "cell_type": "markdown",
   "metadata": {},
   "source": [
    "## Confusion Matrix"
   ]
  },
  {
   "cell_type": "code",
   "execution_count": null,
   "metadata": {},
   "outputs": [],
   "source": [
    "tools.plot_confusion_matrix(y_test,y_pred,\"NaiveBayes\", True)\n",
    "\n",
    "tools.display_result(best_estimator, X_train)"
   ]
  },
  {
   "cell_type": "markdown",
   "metadata": {},
   "source": [
    "# Deep Learning - Convolutional Neural Network Classifier\n",
    "\n",
    "### Now we compare deep learning classification to our traditional Machine Learning models...\n",
    "\n",
    "## Set model and training parameters"
   ]
  },
  {
   "cell_type": "code",
   "execution_count": null,
   "metadata": {},
   "outputs": [],
   "source": [
    "# params for CNN model\n",
    "seq_len = 224\n",
    "if use_full_dataset: \n",
    "    seq_len = 216\n",
    "    \n",
    "model_params = {\n",
    "    # text preprocessing\n",
    "    \"seq_len\": seq_len,\n",
    "    \"num_words\": 10000,\n",
    "    \"embedding_size\": 64,\n",
    "\n",
    "    # size of convolution outputs\n",
    "    \"conv_out_size\": 32,\n",
    "\n",
    "    # Number of strides for each convolution\n",
    "    \"stride\": 2,\n",
    "\n",
    "    # kernel sizes\n",
    "    \"kernel_sizes\": [2,3,4,5]\n",
    "}\n",
    "\n",
    "# training parameters\n",
    "epochs = 24\n",
    "batch_size = 108\n",
    "learning_rate = 0.0001"
   ]
  },
  {
   "cell_type": "markdown",
   "metadata": {},
   "source": [
    "## Construct the CNN model"
   ]
  },
  {
   "cell_type": "code",
   "execution_count": null,
   "metadata": {},
   "outputs": [],
   "source": [
    "model = CNN.CnnModel(model_params)\n",
    "model"
   ]
  },
  {
   "cell_type": "markdown",
   "metadata": {},
   "source": [
    "## Train the CNN"
   ]
  },
  {
   "cell_type": "code",
   "execution_count": null,
   "metadata": {},
   "outputs": [],
   "source": [
    "X_train, X_test, y_train, y_test = cnn_data\n",
    "y_pred, train_accuracies, test_accuracies, train_losses, test_losses \\\n",
    "    = CNN.train_cnn(\n",
    "        model, \n",
    "        X_train, \n",
    "        X_test, \n",
    "        y_train, \n",
    "        y_test, \n",
    "        epochs, \n",
    "        batch_size, \n",
    "        learning_rate\n",
    "    )\n",
    "print(train_accuracies[0], test_accuracies[0], train_losses[0], test_losses[0])"
   ]
  },
  {
   "cell_type": "markdown",
   "metadata": {},
   "source": [
    "## Plot Training + Test Prediction Accuracies for each Epoch"
   ]
  },
  {
   "cell_type": "code",
   "execution_count": null,
   "metadata": {},
   "outputs": [],
   "source": [
    "tools.plot_cnn_accuracies(train_accuracies,test_accuracies, \"CNN\", epochs, batch_size, learning_rate)\n"
   ]
  },
  {
   "cell_type": "markdown",
   "metadata": {},
   "source": [
    "## Plot Training + Test Prediction Losses for each Epoch"
   ]
  },
  {
   "cell_type": "code",
   "execution_count": null,
   "metadata": {},
   "outputs": [],
   "source": [
    "tools.plot_cnn_losses(train_losses, test_losses, \"CNN\", epochs, batch_size, learning_rate)"
   ]
  },
  {
   "source": [
    "## Classify Data"
   ],
   "cell_type": "markdown",
   "metadata": {}
  },
  {
   "cell_type": "code",
   "execution_count": 1,
   "metadata": {},
   "outputs": [
    {
     "output_type": "error",
     "ename": "NameError",
     "evalue": "name 'DataLoader' is not defined",
     "traceback": [
      "\u001b[0;31m---------------------------------------------------------------------------\u001b[0m",
      "\u001b[0;31mNameError\u001b[0m                                 Traceback (most recent call last)",
      "\u001b[0;32m<ipython-input-1-4c3685bf32a6>\u001b[0m in \u001b[0;36m<module>\u001b[0;34m\u001b[0m\n\u001b[0;32m----> 1\u001b[0;31m \u001b[0mdata\u001b[0m \u001b[0;34m=\u001b[0m \u001b[0mDataLoader\u001b[0m\u001b[0;34m(\u001b[0m\u001b[0mCnnDataset\u001b[0m\u001b[0;34m(\u001b[0m\u001b[0mX_test\u001b[0m\u001b[0;34m,\u001b[0m \u001b[0my_test\u001b[0m\u001b[0;34m)\u001b[0m\u001b[0;34m,\u001b[0m \u001b[0mbatch_size\u001b[0m\u001b[0;34m=\u001b[0m\u001b[0mbatch_size\u001b[0m\u001b[0;34m)\u001b[0m\u001b[0;34m\u001b[0m\u001b[0;34m\u001b[0m\u001b[0m\n\u001b[0m\u001b[1;32m      2\u001b[0m \u001b[0my_pred\u001b[0m\u001b[0;34m,\u001b[0m \u001b[0mloss\u001b[0m \u001b[0;34m=\u001b[0m \u001b[0mevaluation\u001b[0m\u001b[0;34m(\u001b[0m\u001b[0mmodel\u001b[0m\u001b[0;34m,\u001b[0m \u001b[0mdata\u001b[0m\u001b[0;34m)\u001b[0m\u001b[0;34m\u001b[0m\u001b[0;34m\u001b[0m\u001b[0m\n\u001b[1;32m      3\u001b[0m \u001b[0;34m\u001b[0m\u001b[0m\n\u001b[1;32m      4\u001b[0m \u001b[0my_pred_labels\u001b[0m \u001b[0;34m=\u001b[0m \u001b[0mtools\u001b[0m\u001b[0;34m.\u001b[0m\u001b[0mcalculate_neural_net_predicted_labels\u001b[0m\u001b[0;34m(\u001b[0m\u001b[0my_pred\u001b[0m\u001b[0;34m)\u001b[0m\u001b[0;34m\u001b[0m\u001b[0;34m\u001b[0m\u001b[0m\n\u001b[1;32m      5\u001b[0m \u001b[0maccuracy\u001b[0m \u001b[0;34m=\u001b[0m \u001b[0mtools\u001b[0m\u001b[0;34m.\u001b[0m\u001b[0mcalculate_neural_net_accuracy\u001b[0m\u001b[0;34m(\u001b[0m\u001b[0my_test\u001b[0m\u001b[0;34m.\u001b[0m\u001b[0mvalues\u001b[0m\u001b[0;34m,\u001b[0m \u001b[0my_pred\u001b[0m\u001b[0;34m)\u001b[0m\u001b[0;34m\u001b[0m\u001b[0;34m\u001b[0m\u001b[0m\n",
      "\u001b[0;31mNameError\u001b[0m: name 'DataLoader' is not defined"
     ]
    }
   ],
   "source": [
    "data = DataLoader(CnnDataset(X_test, y_test), batch_size=batch_size)\n",
    "y_pred, loss = evaluation(model, data)\n",
    "\n",
    "y_pred_labels = tools.calculate_neural_net_predicted_labels(y_pred)\n",
    "accuracy = tools.calculate_neural_net_accuracy(y_test.values, y_pred)\n",
    "print(\"Convolutional Neural Network prediction accuracy: {:.5f}%\".format(accuracy*100))\n",
    "print(\"Convolutional Neural Network prediction loss: {:.5f}\".format(loss.item()))\n",
    "\n",
    "tools.plot_predicted_labels(y_test.values, y_pred_labels, \"CNN\", True)\n",
    "tools.display_prediction_scores(y_test.values,y_pred_labels)\n"
   ]
  },
  {
   "cell_type": "code",
   "execution_count": 2,
   "metadata": {},
   "outputs": [],
   "source": [
    "## Confusion Matrix"
   ]
  },
  {
   "cell_type": "code",
   "execution_count": 3,
   "metadata": {},
   "outputs": [
    {
     "output_type": "error",
     "ename": "NameError",
     "evalue": "name 'tools' is not defined",
     "traceback": [
      "\u001b[0;31m---------------------------------------------------------------------------\u001b[0m",
      "\u001b[0;31mNameError\u001b[0m                                 Traceback (most recent call last)",
      "\u001b[0;32m<ipython-input-3-5ee6bdd7eb5f>\u001b[0m in \u001b[0;36m<module>\u001b[0;34m\u001b[0m\n\u001b[0;32m----> 1\u001b[0;31m \u001b[0mtools\u001b[0m\u001b[0;34m.\u001b[0m\u001b[0mplot_confusion_matrix\u001b[0m\u001b[0;34m(\u001b[0m\u001b[0my_test\u001b[0m\u001b[0;34m.\u001b[0m\u001b[0mvalues\u001b[0m\u001b[0;34m,\u001b[0m\u001b[0my_pred_labels\u001b[0m\u001b[0;34m,\u001b[0m\u001b[0;34m\"CNN\"\u001b[0m\u001b[0;34m,\u001b[0m \u001b[0;32mTrue\u001b[0m\u001b[0;34m)\u001b[0m\u001b[0;34m\u001b[0m\u001b[0;34m\u001b[0m\u001b[0m\n\u001b[0m",
      "\u001b[0;31mNameError\u001b[0m: name 'tools' is not defined"
     ]
    }
   ],
   "source": [
    "tools.plot_confusion_matrix(y_test.values,y_pred_labels,\"CNN\", True)"
   ]
  },
  {
   "cell_type": "raw",
   "metadata": {},
   "source": []
  }
 ],
 "metadata": {
  "kernelspec": {
   "display_name": "Python 3",
   "language": "python",
   "name": "python3"
  },
  "language_info": {
   "codemirror_mode": {
    "name": "ipython",
    "version": 3
   },
   "file_extension": ".py",
   "mimetype": "text/x-python",
   "name": "python",
   "nbconvert_exporter": "python",
   "pygments_lexer": "ipython3",
   "version": "3.8.2-final"
  }
 },
 "nbformat": 4,
 "nbformat_minor": 4
}