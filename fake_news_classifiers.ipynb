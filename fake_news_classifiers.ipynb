{
 "cells": [
  {
   "cell_type": "markdown",
   "metadata": {},
   "source": [
    "# COMP 432 Machine Learning - Term Project Fall 2020\n",
    "\n",
    "#### Student Names:\n",
    "#### Firas Sawan       ID#26487815 \n",
    "#### Giselle Martel    ID#26352936"
   ]
  },
  {
   "cell_type": "markdown",
   "metadata": {},
   "source": [
    "# FakeNewsClassifiers\n",
    "\n",
    "##### A comparison between different Machine Learning and Deep Learning models in predicting which news articles are \"Fake News\" or \"Real News\""
   ]
  },
  {
   "cell_type": "code",
   "execution_count": 1,
   "metadata": {},
   "outputs": [
    {
     "name": "stdout",
     "output_type": "stream",
     "text": [
      "CPU times: user 1.81 s, sys: 494 ms, total: 2.31 s\n",
      "Wall time: 3.26 s\n"
     ]
    },
    {
     "name": "stderr",
     "output_type": "stream",
     "text": [
      "[nltk_data] Downloading package punkt to\n",
      "[nltk_data]     /Users/gisellemartel/nltk_data...\n",
      "[nltk_data]   Package punkt is already up-to-date!\n",
      "[nltk_data] Downloading package wordnet to\n",
      "[nltk_data]     /Users/gisellemartel/nltk_data...\n",
      "[nltk_data]   Package wordnet is already up-to-date!\n",
      "[nltk_data] Downloading package stopwords to\n",
      "[nltk_data]     /Users/gisellemartel/nltk_data...\n",
      "[nltk_data]   Package stopwords is already up-to-date!\n"
     ]
    },
    {
     "data": {
      "text/plain": [
       "<torch._C.Generator at 0x7ffcf931c790>"
      ]
     },
     "execution_count": 1,
     "metadata": {},
     "output_type": "execute_result"
    }
   ],
   "source": [
    "%%time\n",
    "import tools.tools as tools\n",
    "import preprocess as preprocess\n",
    "import model.logistic_regression as LR\n",
    "import model.decision_tree as DT\n",
    "import model.random_forest as RF\n",
    "import model.support_vector_machine as SVC\n",
    "import model.naive_bayesian_classifier as NB\n",
    "import model.convolutional_neural_network as CNN\n",
    "\n",
    "import matplotlib\n",
    "import matplotlib as plt\n",
    "import pandas as pd\n",
    "import numpy as np\n",
    "\n",
    "import torch\n",
    "torch.manual_seed(0)\n"
   ]
  },
  {
   "cell_type": "markdown",
   "metadata": {},
   "source": [
    "# Pre-Processing Data"
   ]
  },
  {
   "cell_type": "code",
   "execution_count": 2,
   "metadata": {
    "scrolled": false
   },
   "outputs": [
    {
     "name": "stdout",
     "output_type": "stream",
     "text": [
      "CPU times: user 2 µs, sys: 1 µs, total: 3 µs\n",
      "Wall time: 3.81 µs\n",
      "\n",
      "Preprocessing of data...\n",
      "\n",
      "Parsing news dataset from file: kaggle_raw/Fake.csv\n",
      "Setting label for news dataset: FAKE\n",
      "\n",
      "Preview of Fake news Dataset\n",
      "                                                   title  \\\n",
      "0      FLASHBACK: KING OBAMA COMMUTES SENTENCES OF 22...   \n",
      "1      APPLE‚ÄôS CEO SAYS RELIGIOUS FREEDOM LAWS ARE ...   \n",
      "2      WATCH DIRTY HARRY REID ON HIS LIE ABOUT ROMNEY...   \n",
      "3      OH NO! GUESS WHO FUNDED THE SHRINE TO TED KENNEDY   \n",
      "4      BENGHAZI PANEL CALLS HILLARY TO TESTIFY UNDER ...   \n",
      "...                                                  ...   \n",
      "23445  IT BEGINS‚Ä¶RINO MEGA-DONOR Threatens Jeb Bush...   \n",
      "23446  BUSTED! Maxine Waters‚Äô Ties to Black Nationa...   \n",
      "23447  Democrat Senator Warns Mueller Not To Release ...   \n",
      "23448  MSNBC ANCHOR Flabbergasted at What Texas Teach...   \n",
      "23449  WATCH: SNOWFLAKES ASKED Communist Party Platfo...   \n",
      "\n",
      "                                                    text   subject       date  \\\n",
      "0      Just making room for Hillary President Obama t...  politics 2015-03-31   \n",
      "1      The gay mafia has a new corporate  Don. This i...  politics 2015-03-31   \n",
      "2      In case you missed it Sen. Harry Reid (R-NV), ...  politics 2015-03-31   \n",
      "3      Nothing like political cronyism to make your s...  politics 2015-03-31   \n",
      "4      Does anyone really think Hillary Clinton will ...  politics 2015-03-31   \n",
      "...                                                  ...       ...        ...   \n",
      "23445  A longtime Republican Party donor based in Flo...  politics 2018-02-18   \n",
      "23446  We reported that Maxine Waters and members of ...  politics 2018-02-18   \n",
      "23447  According to The Hill, Democrat Senator Bob Ca...  politics 2018-02-19   \n",
      "23448  If we protect every other government building ...  politics 2018-02-19   \n",
      "23449  Ami Horowitz is fantastic! Check out this man ...  politics 2018-02-19   \n",
      "\n",
      "      label  \n",
      "0      FAKE  \n",
      "1      FAKE  \n",
      "2      FAKE  \n",
      "3      FAKE  \n",
      "4      FAKE  \n",
      "...     ...  \n",
      "23445  FAKE  \n",
      "23446  FAKE  \n",
      "23447  FAKE  \n",
      "23448  FAKE  \n",
      "23449  FAKE  \n",
      "\n",
      "[23450 rows x 5 columns]\n",
      "\n",
      "Parsing news dataset from file: kaggle_raw/True.csv\n",
      "Setting label for news dataset: REAL\n",
      "\n",
      "Preview of Real news Dataset\n",
      "                                                   title  \\\n",
      "0      As U.S. budget fight looms, Republicans flip t...   \n",
      "1      U.S. military to accept transgender recruits o...   \n",
      "2      Senior U.S. Republican senator: 'Let Mr. Muell...   \n",
      "3      FBI Russia probe helped by Australian diplomat...   \n",
      "4      Trump wants Postal Service to charge 'much mor...   \n",
      "...                                                  ...   \n",
      "21412  'Fully committed' NATO backs new U.S. approach...   \n",
      "21413  LexisNexis withdrew two products from Chinese ...   \n",
      "21414  Minsk cultural hub becomes haven from authorities   \n",
      "21415  Vatican upbeat on possibility of Pope Francis ...   \n",
      "21416  Indonesia to buy $1.14 billion worth of Russia...   \n",
      "\n",
      "                                                    text       subject  \\\n",
      "0      WASHINGTON (Reuters) - The head of a conservat...  politicsNews   \n",
      "1      WASHINGTON (Reuters) - Transgender people will...  politicsNews   \n",
      "2      WASHINGTON (Reuters) - The special counsel inv...  politicsNews   \n",
      "3      WASHINGTON (Reuters) - Trump campaign adviser ...  politicsNews   \n",
      "4      SEATTLE/WASHINGTON (Reuters) - President Donal...  politicsNews   \n",
      "...                                                  ...           ...   \n",
      "21412  BRUSSELS (Reuters) - NATO allies on Tuesday we...     worldnews   \n",
      "21413  LONDON (Reuters) - LexisNexis, a provider of l...     worldnews   \n",
      "21414  MINSK (Reuters) - In the shadow of disused Sov...     worldnews   \n",
      "21415  MOSCOW (Reuters) - Vatican Secretary of State ...     worldnews   \n",
      "21416  JAKARTA (Reuters) - Indonesia will buy 11 Sukh...     worldnews   \n",
      "\n",
      "            date label  \n",
      "0     2017-12-31  REAL  \n",
      "1     2017-12-29  REAL  \n",
      "2     2017-12-31  REAL  \n",
      "3     2017-12-30  REAL  \n",
      "4     2017-12-29  REAL  \n",
      "...          ...   ...  \n",
      "21412 2017-08-22  REAL  \n",
      "21413 2017-08-22  REAL  \n",
      "21414 2017-08-22  REAL  \n",
      "21415 2017-08-22  REAL  \n",
      "21416 2017-08-22  REAL  \n",
      "\n",
      "[21417 rows x 5 columns]\n",
      "\n",
      "Parsing scraped news from file: scraped_raw/scraped_articles.json\n",
      "\n",
      "Preview of Scraped news Dataset\n",
      "1653\n",
      "                                                  title  \\\n",
      "0     Bangladesh moves hundreds of Rohingya refugees...   \n",
      "1     Hundreds of Rohingya refugees being relocated ...   \n",
      "2     'I'm the guy who's stealing Christmas': Canadi...   \n",
      "3     Before this teacher, school attendance was as ...   \n",
      "4     Amid China-US tensions, Australia finds itself...   \n",
      "...                                                 ...   \n",
      "1648  Where Dogs Roam Free Forever, Saved from Eutha...   \n",
      "1649        Video Catches Mouse’s Soul Leaving His Body   \n",
      "1650  Colorado Fast-Food Chain Sonic Now Selling Wee...   \n",
      "1651  This 93 Year Old Woman Shares The Recipes She ...   \n",
      "1652  [VIDEO] Teen Blogger Tells Girls To Stay With ...   \n",
      "\n",
      "                                                   text       date label  \n",
      "0     (CNN) Hundreds of Rohingya refugees in Banglad... 2020-12-03  REAL  \n",
      "1     Hundreds of Rohingya refugees in Bangladesh ar... 2020-12-05  REAL  \n",
      "2     As coronavirus cases rise, Manitoba Premier Br... 2020-12-04  REAL  \n",
      "3     Ranjitsinh Disale, a teacher in India, was hon... 2020-12-04  REAL  \n",
      "4     The relationship between China and Australia h... 2020-12-04  REAL  \n",
      "...                                                 ...        ...   ...  \n",
      "1648  Over 2,500 dogs are already enjoying a better ... 2020-11-20  FAKE  \n",
      "1649  Video Catches Mouse’s Soul Leaving His Body.\\n... 2020-10-31  FAKE  \n",
      "1650  Colorado Fast-Food Chain Sonic Now Selling Wee... 2014-01-03  FAKE  \n",
      "1651  The Great Depression was a time of struggle an... 2015-11-25  FAKE  \n",
      "1652  [VIDEO] Teen Blogger Tells Girls To Stay With ... 2014-12-02  FAKE  \n",
      "\n",
      "[1653 rows x 4 columns]\n",
      "\n",
      "Size of the preprocessed data to be split: 46520\n",
      "\n",
      "Tokenizing fake_news dataset, this may take a few minutes...\n",
      "Tokenizing real_news dataset, this may take a few minutes...\n",
      "\n",
      "\n",
      "Splitting data: 70% training, 30% testing\n",
      "Splitting data: 70% training, 30% testing\n",
      "\n",
      "Preview of training data:\n",
      "   according  act  action    added  administration  agency  already      also  \\\n",
      "0   0.000000  0.0     0.0  0.11758             0.0     0.0      0.0  0.034190   \n",
      "1   0.000000  0.0     0.0  0.00000             0.0     0.0      0.0  0.000000   \n",
      "2   0.000000  0.0     0.0  0.00000             0.0     0.0      0.0  0.056262   \n",
      "3   0.309638  0.0     0.0  0.00000             0.0     0.0      0.0  0.219640   \n",
      "4   0.000000  0.0     0.0  0.00000             0.0     0.0      0.0  0.000000   \n",
      "\n",
      "    america  american  ...      went  whether     white  without     woman  \\\n",
      "0  0.050219  0.000000  ...  0.000000      0.0  0.089515  0.00000  0.000000   \n",
      "1  0.000000  0.000000  ...  0.000000      0.0  0.000000  0.22071  0.000000   \n",
      "2  0.000000  0.070042  ...  0.000000      0.0  0.000000  0.00000  0.000000   \n",
      "3  0.000000  0.000000  ...  0.000000      0.0  0.000000  0.00000  0.117846   \n",
      "4  0.000000  0.000000  ...  0.055009      0.0  0.000000  0.00000  0.654008   \n",
      "\n",
      "       work     world      year  yet  york  \n",
      "0  0.100568  0.000000  0.035619  0.0   0.0  \n",
      "1  0.000000  0.204303  0.000000  0.0   0.0  \n",
      "2  0.082747  0.000000  0.000000  0.0   0.0  \n",
      "3  0.000000  0.000000  0.000000  0.0   0.0  \n",
      "4  0.000000  0.000000  0.032561  0.0   0.0  \n",
      "\n",
      "[5 rows x 216 columns]\n",
      "       label\n",
      "28471      0\n",
      "43781      0\n",
      "15412      1\n",
      "13826      1\n",
      "12401      1\n",
      "\n"
     ]
    }
   ],
   "source": [
    "%time\n",
    "# change param of use_full_dataset to True to use full data set\n",
    "# Warning: may take an hour or longer to train all models using full dataset!)\n",
    "use_full_dataset = True\n",
    "\n",
    "if(not use_full_dataset) : tools.set_results_dir(\"./results/mock_results/\")\n",
    "\n",
    "# returns preprocessed data for ML models and CNN model\n",
    "# ML data is vectorized with an idf vectorizer and CNN data is vectorized with a Count vectorizer\n",
    "ml_data, cnn_data = preprocess.preprocess(use_full_dataset)\n",
    "\n",
    "X_train, X_test, y_train, y_test = ml_data"
   ]
  },
  {
   "cell_type": "markdown",
   "metadata": {},
   "source": [
    "# Logistic Regression Classifier \n",
    "## Hyperparameter search + training"
   ]
  },
  {
   "cell_type": "code",
   "execution_count": 3,
   "metadata": {},
   "outputs": [
    {
     "name": "stdout",
     "output_type": "stream",
     "text": [
      "CPU times: user 2 µs, sys: 0 ns, total: 2 µs\n",
      "Wall time: 4.77 µs\n",
      "Testing Logistic Regression Classifier ...\n",
      "\n",
      "Fitting data to LogisticRegression Classifier, this may take a while...\n",
      "52.199% training accuracy for C=0.000001\n",
      "52.199% training accuracy for C=0.000010\n",
      "52.199% training accuracy for C=0.000100\n",
      "83.988% training accuracy for C=0.001000\n",
      "87.674% training accuracy for C=0.010000\n",
      "89.685% training accuracy for C=0.100000\n",
      "90.118% training accuracy for C=1.000000\n",
      "90.115% training accuracy for C=10.000000\n",
      "90.130% training accuracy for C=100.000000\n",
      "90.127% training accuracy for C=1000.000000\n",
      "90.130% training accuracy for C=10000.000000\n",
      "90.127% training accuracy for C=100000.000000\n",
      "90.130% training accuracy for C=1000000.000000\n",
      "Fitting 5 folds for each of 13 candidates, totalling 65 fits\n"
     ]
    },
    {
     "name": "stderr",
     "output_type": "stream",
     "text": [
      "[Parallel(n_jobs=1)]: Using backend SequentialBackend with 1 concurrent workers.\n",
      "[Parallel(n_jobs=1)]: Done  65 out of  65 | elapsed:   30.0s finished\n"
     ]
    }
   ],
   "source": [
    "%time\n",
    "# Logisitic Regression Classifier\n",
    "print(\"Testing Logistic Regression Classifier ...\\n\")\n",
    "\n",
    "# set the hyperparams\n",
    "C = np.logspace(-6,6,13)\n",
    "param_grid = {\"C\":C}\n",
    "\n",
    "# fetch all the estimators given the chosen hyperparameters\n",
    "estimators = LR.train_all_estimators(X_train, y_train, C)\n",
    "\n",
    "# perform hyperparam search\n",
    "grid_search = LR.perform_hyperparam_grid_search(X_train,y_train, param_grid)\n",
    "\n",
    "best_estimator = grid_search.best_estimator_\n",
    "hyperparams = grid_search.best_params_\n",
    "score = grid_search.best_score_*100\n"
   ]
  },
  {
   "cell_type": "markdown",
   "metadata": {},
   "source": [
    "## Calculate estimator scores and overall overfitting"
   ]
  },
  {
   "cell_type": "code",
   "execution_count": 4,
   "metadata": {},
   "outputs": [
    {
     "name": "stdout",
     "output_type": "stream",
     "text": [
      "\n",
      "Logistic Regression overfitting: 0.046\n",
      "\n",
      "Best LogisticRegression estimator accuracy: 89.832%\n",
      "Hyperparams:\n",
      "C: 1.0\n",
      "\n"
     ]
    }
   ],
   "source": [
    "# calculate the training and testing scores and plot the result\n",
    "trn_scores, test_scores = tools.calculate_estimator_scores([X_train, X_test, y_train, y_test], estimators)\n",
    "\n",
    "# calculate model overfitting\n",
    "overfitting = tools.determine_overfitting(trn_scores,test_scores)\n",
    "print(\"\\nLogistic Regression overfitting: {:.3f}\\n\".format(overfitting))\n",
    "\n",
    "# display details of best estimator\n",
    "tools.display_best_estimator(score, \"LogisticRegression\", hyperparams)\n"
   ]
  },
  {
   "cell_type": "code",
   "execution_count": 5,
   "metadata": {},
   "outputs": [
    {
     "data": {
      "image/png": "[encoded data removed]",
      "text/plain": [
       "<Figure size 432x288 with 1 Axes>"
      ]
     },
     "metadata": {
      "needs_background": "light"
     },
     "output_type": "display_data"
    }
   ],
   "source": [
    "# plot the scores of each estimator (see test_results or results folder for png files of graphs)\n",
    "tools.plot_estimator_scores(\"LogisticRegression\",trn_scores,test_scores)"
   ]
  },
  {
   "cell_type": "markdown",
   "metadata": {},
   "source": [
    "## Classify Data"
   ]
  },
  {
   "cell_type": "code",
   "execution_count": 6,
   "metadata": {},
   "outputs": [
    {
     "name": "stdout",
     "output_type": "stream",
     "text": [
      "Printing metrics...\n",
      "mean squared error: 10.218%\n",
      "accuracy: 89.782%\n",
      "recall: 90.168%\n",
      "precision: 90.093%\n",
      "f1: 90.130%\n",
      "jacccard: 82.034%\n",
      "\n",
      "CPU times: user 141 ms, sys: 23.3 ms, total: 164 ms\n",
      "Wall time: 94.4 ms\n"
     ]
    },
    {
     "data": {
      "text/plain": [
       "<Figure size 432x288 with 0 Axes>"
      ]
     },
     "metadata": {},
     "output_type": "display_data"
    },
    {
     "data": {
      "image/png": "[encoded data removed]",
      "text/plain": [
       "<Figure size 792x288 with 2 Axes>"
      ]
     },
     "metadata": {},
     "output_type": "display_data"
    }
   ],
   "source": [
    "%%time\n",
    "# use best estimator to make predictions\n",
    "y_pred = LR.logistic_regression_predict(best_estimator, X_test)\n",
    "tools.display_prediction_scores(y_test,y_pred)\n",
    "\n",
    "tools.plot_predicted_labels(y_test, y_pred, \"LogisticRegression\")"
   ]
  },
  {
   "cell_type": "markdown",
   "metadata": {},
   "source": [
    "## Confusion Matrix"
   ]
  },
  {
   "cell_type": "code",
   "execution_count": 7,
   "metadata": {},
   "outputs": [
    {
     "name": "stdout",
     "output_type": "stream",
     "text": [
      "Plotting confusion matrix for LogisticRegression Classifier...\n"
     ]
    },
    {
     "data": {
      "image/png": "[encoded data removed]",
      "text/plain": [
       "<Figure size 432x288 with 2 Axes>"
      ]
     },
     "metadata": {
      "needs_background": "light"
     },
     "output_type": "display_data"
    }
   ],
   "source": [
    "tools.plot_confusion_matrix(y_test,y_pred,\"LogisticRegression\")"
   ]
  },
  {
   "cell_type": "markdown",
   "metadata": {},
   "source": [
    "\n",
    "\n",
    "\n",
    "\n",
    "\n",
    "# Decision Tree Classifier\n",
    "## Hyperparameter search + training"
   ]
  },
  {
   "cell_type": "code",
   "execution_count": 8,
   "metadata": {},
   "outputs": [
    {
     "name": "stdout",
     "output_type": "stream",
     "text": [
      "CPU times: user 2 µs, sys: 1e+03 ns, total: 3 µs\n",
      "Wall time: 3.81 µs\n",
      "Testing Decision Tree Classifier ...\n",
      "\n",
      "Fitting data to DecisionTree, this may take a while...\n",
      "71.782% training accuracy for max_depth=2.000\n",
      "75.860% training accuracy for max_depth=4.000\n",
      "80.432% training accuracy for max_depth=6.000\n",
      "84.225% training accuracy for max_depth=8.000\n",
      "87.974% training accuracy for max_depth=10.000\n",
      "90.953% training accuracy for max_depth=12.000\n",
      "93.146% training accuracy for max_depth=14.000\n",
      "94.592% training accuracy for max_depth=16.000\n",
      "95.682% training accuracy for max_depth=18.000\n",
      "96.647% training accuracy for max_depth=20.000\n",
      "97.233% training accuracy for max_depth=22.000\n",
      "97.685% training accuracy for max_depth=24.000\n",
      "98.028% training accuracy for max_depth=26.000\n",
      "98.437% training accuracy for max_depth=28.000\n",
      "98.621% training accuracy for max_depth=30.000\n",
      "98.815% training accuracy for max_depth=32.000\n",
      "98.855% training accuracy for max_depth=34.000\n",
      "99.033% training accuracy for max_depth=36.000\n",
      "99.168% training accuracy for max_depth=38.000\n",
      "99.248% training accuracy for max_depth=40.000\n",
      "99.349% training accuracy for max_depth=42.000\n",
      "99.383% training accuracy for max_depth=44.000\n",
      "99.407% training accuracy for max_depth=46.000\n",
      "99.429% training accuracy for max_depth=48.000\n",
      "99.450% training accuracy for max_depth=50.000\n",
      "99.478% training accuracy for max_depth=52.000\n",
      "99.503% training accuracy for max_depth=54.000\n",
      "99.521% training accuracy for max_depth=56.000\n",
      "99.533% training accuracy for max_depth=58.000\n",
      "99.555% training accuracy for max_depth=60.000\n",
      "99.579% training accuracy for max_depth=62.000\n",
      "99.592% training accuracy for max_depth=64.000\n",
      "99.598% training accuracy for max_depth=66.000\n",
      "99.604% training accuracy for max_depth=68.000\n",
      "99.610% training accuracy for max_depth=70.000\n",
      "99.616% training accuracy for max_depth=72.000\n",
      "99.622% training accuracy for max_depth=74.000\n",
      "99.628% training accuracy for max_depth=76.000\n",
      "99.631% training accuracy for max_depth=78.000\n",
      "99.650% training accuracy for max_depth=80.000\n",
      "99.665% training accuracy for max_depth=82.000\n",
      "99.674% training accuracy for max_depth=84.000\n",
      "99.681% training accuracy for max_depth=86.000\n",
      "99.687% training accuracy for max_depth=88.000\n",
      "99.690% training accuracy for max_depth=90.000\n",
      "99.699% training accuracy for max_depth=92.000\n",
      "99.708% training accuracy for max_depth=94.000\n",
      "99.714% training accuracy for max_depth=96.000\n",
      "99.721% training accuracy for max_depth=98.000\n",
      "99.724% training accuracy for max_depth=100.000\n",
      "Fitting 5 folds for each of 50 candidates, totalling 250 fits\n"
     ]
    },
    {
     "name": "stderr",
     "output_type": "stream",
     "text": [
      "[Parallel(n_jobs=5)]: Using backend LokyBackend with 5 concurrent workers.\n",
      "[Parallel(n_jobs=5)]: Done  40 tasks      | elapsed:   18.4s\n",
      "[Parallel(n_jobs=5)]: Done 190 tasks      | elapsed:  2.9min\n",
      "[Parallel(n_jobs=5)]: Done 250 out of 250 | elapsed:  4.0min finished\n"
     ]
    }
   ],
   "source": [
    "%time\n",
    "print(\"Testing Decision Tree Classifier ...\\n\")\n",
    "\n",
    "# set the hyperparams\n",
    "D = np.linspace(2,100,50)\n",
    "param_grid = {\"max_depth\":D}\n",
    "\n",
    "# fetch all the estimators given the chosen hyperparameters\n",
    "estimators = DT.train_all_estimators(X_train, y_train, D)\n",
    "\n",
    "# perform hyperparam search\n",
    "grid_search = DT.perform_hyperparam_grid_search(X_train,y_train, param_grid)\n",
    "\n",
    "best_estimator = grid_search.best_estimator_\n",
    "hyperparams = grid_search.best_params_\n",
    "score = grid_search.best_score_ * 100"
   ]
  },
  {
   "cell_type": "markdown",
   "metadata": {},
   "source": [
    "## Plot Features Importances"
   ]
  },
  {
   "cell_type": "code",
   "execution_count": 9,
   "metadata": {},
   "outputs": [
    {
     "name": "stdout",
     "output_type": "stream",
     "text": [
      "Plotting feature importances for DecisionTree Classifier..\n"
     ]
    },
    {
     "data": {
      "image/png": "[encoded data removed]",
      "text/plain": [
       "<Figure size 432x288 with 1 Axes>"
      ]
     },
     "metadata": {
      "needs_background": "light"
     },
     "output_type": "display_data"
    }
   ],
   "source": [
    "tools.plot_feature_importances(X_train, best_estimator, \"DecisionTree\")"
   ]
  },
  {
   "cell_type": "markdown",
   "metadata": {},
   "source": [
    "## Calculate estimator scores and overall overfitting"
   ]
  },
  {
   "cell_type": "code",
   "execution_count": 10,
   "metadata": {},
   "outputs": [
    {
     "name": "stdout",
     "output_type": "stream",
     "text": [
      "\n",
      "Decision Tree overfitting: 6.285\n",
      "\n",
      "Best DecisionTree estimator accuracy: 84.891%\n",
      "Hyperparams:\n",
      "max_depth: 24.0\n",
      "\n",
      "CPU times: user 1.83 s, sys: 136 ms, total: 1.96 s\n",
      "Wall time: 2.01 s\n"
     ]
    },
    {
     "data": {
      "image/png": "[encoded data removed]",
      "text/plain": [
       "<Figure size 432x288 with 1 Axes>"
      ]
     },
     "metadata": {
      "needs_background": "light"
     },
     "output_type": "display_data"
    }
   ],
   "source": [
    "%%time\n",
    "# calculate the training and testing scores and plot the result\n",
    "trn_scores, test_scores = tools.calculate_estimator_scores([X_train, X_test, y_train, y_test], estimators)\n",
    "\n",
    "# calculate model overfitting\n",
    "overfitting = tools.determine_overfitting(trn_scores,test_scores)\n",
    "print(\"\\nDecision Tree overfitting: {:.3f}\\n\".format(overfitting))\n",
    "\n",
    "# plot the scores of each estimator\n",
    "tools.plot_estimator_scores(\"DecisionTree\",trn_scores,test_scores)\n",
    "\n",
    "# display details of best estimator\n",
    "tools.display_best_estimator(score, \"DecisionTree\", hyperparams)"
   ]
  },
  {
   "cell_type": "markdown",
   "metadata": {},
   "source": [
    "## Classify Data"
   ]
  },
  {
   "cell_type": "code",
   "execution_count": 11,
   "metadata": {},
   "outputs": [
    {
     "name": "stdout",
     "output_type": "stream",
     "text": [
      "Printing metrics...\n",
      "mean squared error: 14.925%\n",
      "accuracy: 85.075%\n",
      "recall: 87.855%\n",
      "precision: 84.026%\n",
      "f1: 85.898%\n",
      "jacccard: 75.282%\n",
      "\n"
     ]
    },
    {
     "data": {
      "text/plain": [
       "<Figure size 432x288 with 0 Axes>"
      ]
     },
     "metadata": {},
     "output_type": "display_data"
    },
    {
     "data": {
      "image/png": "[encoded data removed]",
      "text/plain": [
       "<Figure size 792x288 with 2 Axes>"
      ]
     },
     "metadata": {},
     "output_type": "display_data"
    }
   ],
   "source": [
    "# use best estimator to make predictions\n",
    "y_pred = DT.decision_tree_predict(best_estimator, X_test)\n",
    "tools.display_prediction_scores(y_test,y_pred)\n",
    "\n",
    "tools.plot_predicted_labels(y_test, y_pred, \"DecisionTree\")"
   ]
  },
  {
   "cell_type": "markdown",
   "metadata": {},
   "source": [
    "## Confusion Matrix"
   ]
  },
  {
   "cell_type": "code",
   "execution_count": 12,
   "metadata": {},
   "outputs": [
    {
     "name": "stdout",
     "output_type": "stream",
     "text": [
      "Plotting confusion matrix for DecisionTree Classifier...\n"
     ]
    },
    {
     "data": {
      "image/png": "[encoded data removed]",
      "text/plain": [
       "<Figure size 432x288 with 2 Axes>"
      ]
     },
     "metadata": {
      "needs_background": "light"
     },
     "output_type": "display_data"
    }
   ],
   "source": [
    "tools.plot_confusion_matrix(y_test,y_pred,\"DecisionTree\")"
   ]
  },
  {
   "cell_type": "markdown",
   "metadata": {},
   "source": [
    "# Random Forest Classifier\n",
    "## Hyperparameter search + training"
   ]
  },
  {
   "cell_type": "code",
   "execution_count": 13,
   "metadata": {},
   "outputs": [
    {
     "name": "stdout",
     "output_type": "stream",
     "text": [
      "CPU times: user 2 µs, sys: 0 ns, total: 2 µs\n",
      "Wall time: 4.05 µs\n",
      "Testing Random Forest Classifier ...\n",
      "\n",
      "Fitting data to Random Forest Classifier, this may take a while...\n",
      "70.501% training accuracy for max_depth=2.000 n_estimators=2.000\n",
      "75.135% training accuracy for max_depth=2.000 n_estimators=4.000\n",
      "77.623% training accuracy for max_depth=2.000 n_estimators=6.000\n",
      "79.081% training accuracy for max_depth=2.000 n_estimators=8.000\n",
      "80.838% training accuracy for max_depth=2.000 n_estimators=10.000\n",
      "81.243% training accuracy for max_depth=2.000 n_estimators=12.000\n",
      "81.790% training accuracy for max_depth=2.000 n_estimators=14.000\n",
      "82.186% training accuracy for max_depth=2.000 n_estimators=16.000\n",
      "81.906% training accuracy for max_depth=2.000 n_estimators=18.000\n",
      "82.349% training accuracy for max_depth=2.000 n_estimators=20.000\n",
      "75.415% training accuracy for max_depth=4.000 n_estimators=2.000\n",
      "80.217% training accuracy for max_depth=4.000 n_estimators=4.000\n",
      "81.774% training accuracy for max_depth=4.000 n_estimators=6.000\n",
      "81.142% training accuracy for max_depth=4.000 n_estimators=8.000\n",
      "81.630% training accuracy for max_depth=4.000 n_estimators=10.000\n",
      "82.051% training accuracy for max_depth=4.000 n_estimators=12.000\n",
      "82.677% training accuracy for max_depth=4.000 n_estimators=14.000\n",
      "85.426% training accuracy for max_depth=4.000 n_estimators=16.000\n",
      "85.727% training accuracy for max_depth=4.000 n_estimators=18.000\n",
      "85.938% training accuracy for max_depth=4.000 n_estimators=20.000\n",
      "78.559% training accuracy for max_depth=6.000 n_estimators=2.000\n",
      "82.290% training accuracy for max_depth=6.000 n_estimators=4.000\n",
      "85.048% training accuracy for max_depth=6.000 n_estimators=6.000\n",
      "85.923% training accuracy for max_depth=6.000 n_estimators=8.000\n",
      "86.718% training accuracy for max_depth=6.000 n_estimators=10.000\n",
      "87.253% training accuracy for max_depth=6.000 n_estimators=12.000\n",
      "87.649% training accuracy for max_depth=6.000 n_estimators=14.000\n",
      "87.919% training accuracy for max_depth=6.000 n_estimators=16.000\n",
      "88.407% training accuracy for max_depth=6.000 n_estimators=18.000\n",
      "88.245% training accuracy for max_depth=6.000 n_estimators=20.000\n",
      "81.854% training accuracy for max_depth=8.000 n_estimators=2.000\n",
      "85.432% training accuracy for max_depth=8.000 n_estimators=4.000\n",
      "87.326% training accuracy for max_depth=8.000 n_estimators=6.000\n",
      "88.177% training accuracy for max_depth=8.000 n_estimators=8.000\n",
      "89.246% training accuracy for max_depth=8.000 n_estimators=10.000\n",
      "89.620% training accuracy for max_depth=8.000 n_estimators=12.000\n",
      "90.026% training accuracy for max_depth=8.000 n_estimators=14.000\n",
      "90.235% training accuracy for max_depth=8.000 n_estimators=16.000\n",
      "90.400% training accuracy for max_depth=8.000 n_estimators=18.000\n",
      "90.459% training accuracy for max_depth=8.000 n_estimators=20.000\n",
      "84.532% training accuracy for max_depth=10.000 n_estimators=2.000\n",
      "88.042% training accuracy for max_depth=10.000 n_estimators=4.000\n",
      "89.703% training accuracy for max_depth=10.000 n_estimators=6.000\n",
      "90.465% training accuracy for max_depth=10.000 n_estimators=8.000\n",
      "91.070% training accuracy for max_depth=10.000 n_estimators=10.000\n",
      "91.371% training accuracy for max_depth=10.000 n_estimators=12.000\n",
      "91.555% training accuracy for max_depth=10.000 n_estimators=14.000\n",
      "92.025% training accuracy for max_depth=10.000 n_estimators=16.000\n",
      "92.314% training accuracy for max_depth=10.000 n_estimators=18.000\n",
      "92.446% training accuracy for max_depth=10.000 n_estimators=20.000\n",
      "87.219% training accuracy for max_depth=12.000 n_estimators=2.000\n",
      "90.953% training accuracy for max_depth=12.000 n_estimators=4.000\n",
      "91.807% training accuracy for max_depth=12.000 n_estimators=6.000\n",
      "92.667% training accuracy for max_depth=12.000 n_estimators=8.000\n",
      "92.968% training accuracy for max_depth=12.000 n_estimators=10.000\n",
      "93.213% training accuracy for max_depth=12.000 n_estimators=12.000\n",
      "93.557% training accuracy for max_depth=12.000 n_estimators=14.000\n",
      "93.686% training accuracy for max_depth=12.000 n_estimators=16.000\n",
      "93.938% training accuracy for max_depth=12.000 n_estimators=18.000\n",
      "93.914% training accuracy for max_depth=12.000 n_estimators=20.000\n",
      "88.546% training accuracy for max_depth=14.000 n_estimators=2.000\n",
      "92.123% training accuracy for max_depth=14.000 n_estimators=4.000\n",
      "93.020% training accuracy for max_depth=14.000 n_estimators=6.000\n",
      "93.929% training accuracy for max_depth=14.000 n_estimators=8.000\n",
      "94.522% training accuracy for max_depth=14.000 n_estimators=10.000\n",
      "94.792% training accuracy for max_depth=14.000 n_estimators=12.000\n",
      "95.059% training accuracy for max_depth=14.000 n_estimators=14.000\n",
      "95.176% training accuracy for max_depth=14.000 n_estimators=16.000\n",
      "95.378% training accuracy for max_depth=14.000 n_estimators=18.000\n",
      "95.449% training accuracy for max_depth=14.000 n_estimators=20.000\n",
      "Fitting 5 folds for each of 70 candidates, totalling 350 fits\n"
     ]
    },
    {
     "name": "stderr",
     "output_type": "stream",
     "text": [
      "[Parallel(n_jobs=1)]: Using backend SequentialBackend with 1 concurrent workers.\n",
      "[Parallel(n_jobs=1)]: Done 350 out of 350 | elapsed:  3.3min finished\n"
     ]
    }
   ],
   "source": [
    "%time\n",
    "\n",
    "print(\"Testing Random Forest Classifier ...\\n\")\n",
    "\n",
    "# set the hyperparams\n",
    "D = np.linspace(2,14,7)\n",
    "N = np.linspace(2,20,10, dtype=\"int32\")\n",
    "\n",
    "param_grid = {\"max_depth\":D, \"n_estimators\": N}\n",
    "\n",
    "# fetch all the estimators given the chosen hyperparameters\n",
    "estimators = RF.train_all_estimators(X_train,y_train,D,N)\n",
    "\n",
    "# perform hyperparam search\n",
    "grid_search = RF.perform_hyperparam_grid_search(X_train,y_train, param_grid)\n",
    "\n",
    "best_estimator = grid_search.best_estimator_\n",
    "hyperparams = grid_search.best_params_\n",
    "score = grid_search.best_score_*100"
   ]
  },
  {
   "cell_type": "markdown",
   "metadata": {},
   "source": [
    "## Plot Feature Importances"
   ]
  },
  {
   "cell_type": "code",
   "execution_count": 14,
   "metadata": {},
   "outputs": [
    {
     "name": "stdout",
     "output_type": "stream",
     "text": [
      "Plotting feature importances for RandomForest Classifier..\n"
     ]
    },
    {
     "data": {
      "image/png": "[encoded data removed]",
      "text/plain": [
       "<Figure size 432x288 with 1 Axes>"
      ]
     },
     "metadata": {
      "needs_background": "light"
     },
     "output_type": "display_data"
    }
   ],
   "source": [
    "tools.plot_feature_importances(X_train, best_estimator, \"RandomForest\")"
   ]
  },
  {
   "cell_type": "markdown",
   "metadata": {},
   "source": [
    "## Calculate Estimator scores and Overall Overfitting"
   ]
  },
  {
   "cell_type": "code",
   "execution_count": 15,
   "metadata": {},
   "outputs": [
    {
     "name": "stdout",
     "output_type": "stream",
     "text": [
      "\n",
      "Random Forest overfitting: 1.807\n",
      "\n",
      "Best RandomForest estimator accuracy: 90.066%\n",
      "Hyperparams:\n",
      "max_depth: 14.0\n",
      "n_estimators: 20\n",
      "\n"
     ]
    },
    {
     "data": {
      "image/png": "[encoded data removed]",
      "text/plain": [
       "<Figure size 432x288 with 1 Axes>"
      ]
     },
     "metadata": {
      "needs_background": "light"
     },
     "output_type": "display_data"
    }
   ],
   "source": [
    "# calculate the training and testing scores and plot the result\n",
    "trn_scores, test_scores = tools.calculate_estimator_scores([X_train, X_test, y_train, y_test], estimators)\n",
    "\n",
    "# calculate model overfitting\n",
    "overfitting = tools.determine_overfitting(trn_scores,test_scores)\n",
    "print(\"\\nRandom Forest overfitting: {:.3f}\\n\".format(overfitting))\n",
    "\n",
    "# plot the scores of each estimator\n",
    "tools.plot_estimator_scores(\"RandomForest\",trn_scores,test_scores)\n",
    "\n",
    "# display details of best estimator\n",
    "tools.display_best_estimator(score, \"RandomForest\", hyperparams)"
   ]
  },
  {
   "cell_type": "markdown",
   "metadata": {},
   "source": [
    "## Classify Data"
   ]
  },
  {
   "cell_type": "code",
   "execution_count": 16,
   "metadata": {},
   "outputs": [
    {
     "name": "stdout",
     "output_type": "stream",
     "text": [
      "Printing metrics...\n",
      "mean squared error: 9.530%\n",
      "accuracy: 90.470%\n",
      "recall: 92.466%\n",
      "precision: 89.468%\n",
      "f1: 90.943%\n",
      "jacccard: 83.390%\n",
      "\n"
     ]
    },
    {
     "data": {
      "text/plain": [
       "<Figure size 432x288 with 0 Axes>"
      ]
     },
     "metadata": {},
     "output_type": "display_data"
    },
    {
     "data": {
      "image/png": "[encoded data removed]",
      "text/plain": [
       "<Figure size 792x288 with 2 Axes>"
      ]
     },
     "metadata": {},
     "output_type": "display_data"
    }
   ],
   "source": [
    "# use best estimator to make predictions\n",
    "y_pred = RF.random_forest_predict(best_estimator, X_test)\n",
    "\n",
    "tools.display_prediction_scores(y_test,y_pred)\n",
    "tools.plot_predicted_labels(y_test, y_pred, \"RandomForest\")"
   ]
  },
  {
   "cell_type": "markdown",
   "metadata": {},
   "source": [
    "## Confusion Matrix"
   ]
  },
  {
   "cell_type": "code",
   "execution_count": 17,
   "metadata": {},
   "outputs": [
    {
     "name": "stdout",
     "output_type": "stream",
     "text": [
      "Plotting confusion matrix for RandomForest Classifier...\n"
     ]
    },
    {
     "data": {
      "image/png": "[encoded data removed]",
      "text/plain": [
       "<Figure size 432x288 with 2 Axes>"
      ]
     },
     "metadata": {
      "needs_background": "light"
     },
     "output_type": "display_data"
    }
   ],
   "source": [
    "tools.plot_confusion_matrix(y_test,y_pred,\"RandomForest\")"
   ]
  },
  {
   "cell_type": "markdown",
   "metadata": {},
   "source": [
    "# Support Vector Machine Classifier\n",
    "## Hyperparameter search + training"
   ]
  },
  {
   "cell_type": "code",
   "execution_count": 18,
   "metadata": {},
   "outputs": [
    {
     "name": "stdout",
     "output_type": "stream",
     "text": [
      "CPU times: user 2 µs, sys: 1 µs, total: 3 µs\n",
      "Wall time: 4.77 µs\n",
      "Testing SVM Classifier ...\n",
      "\n",
      "Fitting data to SVC, this may take a while...\n",
      "76.609% training accuracy for C=0.010 gamma=0.010 kernel=rbf\n",
      "78.608% training accuracy for C=0.010 gamma=0.178 kernel=rbf\n",
      "57.846% training accuracy for C=0.010 gamma=3.162 kernel=rbf\n",
      "53.762% training accuracy for C=0.010 gamma=56.234 kernel=rbf\n",
      "55.617% training accuracy for C=0.010 gamma=1000.000 kernel=rbf\n",
      "76.158% training accuracy for C=0.178 gamma=0.010 kernel=rbf\n",
      "77.847% training accuracy for C=0.178 gamma=0.178 kernel=rbf\n",
      "61.255% training accuracy for C=0.178 gamma=3.162 kernel=rbf\n",
      "54.493% training accuracy for C=0.178 gamma=56.234 kernel=rbf\n",
      "55.641% training accuracy for C=0.178 gamma=1000.000 kernel=rbf\n",
      "75.900% training accuracy for C=3.162 gamma=0.010 kernel=rbf\n",
      "73.683% training accuracy for C=3.162 gamma=0.178 kernel=rbf\n",
      "77.183% training accuracy for C=3.162 gamma=3.162 kernel=rbf\n",
      "52.841% training accuracy for C=3.162 gamma=56.234 kernel=rbf\n",
      "54.483% training accuracy for C=3.162 gamma=1000.000 kernel=rbf\n",
      "74.447% training accuracy for C=56.234 gamma=0.010 kernel=rbf\n",
      "68.735% training accuracy for C=56.234 gamma=0.178 kernel=rbf\n",
      "73.326% training accuracy for C=56.234 gamma=3.162 kernel=rbf\n",
      "52.841% training accuracy for C=56.234 gamma=56.234 kernel=rbf\n",
      "54.483% training accuracy for C=56.234 gamma=1000.000 kernel=rbf\n",
      "68.017% training accuracy for C=1000.000 gamma=0.010 kernel=rbf\n",
      "70.028% training accuracy for C=1000.000 gamma=0.178 kernel=rbf\n",
      "73.326% training accuracy for C=1000.000 gamma=3.162 kernel=rbf\n",
      "52.841% training accuracy for C=1000.000 gamma=56.234 kernel=rbf\n",
      "54.483% training accuracy for C=1000.000 gamma=1000.000 kernel=rbf\n",
      "77.712% training accuracy for C=0.010 gamma=0.010 kernel=linear\n",
      "77.712% training accuracy for C=0.010 gamma=0.178 kernel=linear\n",
      "77.712% training accuracy for C=0.010 gamma=3.162 kernel=linear\n",
      "77.712% training accuracy for C=0.010 gamma=56.234 kernel=linear\n",
      "77.712% training accuracy for C=0.010 gamma=1000.000 kernel=linear\n",
      "79.431% training accuracy for C=0.178 gamma=0.010 kernel=linear\n",
      "79.431% training accuracy for C=0.178 gamma=0.178 kernel=linear\n",
      "79.431% training accuracy for C=0.178 gamma=3.162 kernel=linear\n",
      "79.431% training accuracy for C=0.178 gamma=56.234 kernel=linear\n",
      "79.431% training accuracy for C=0.178 gamma=1000.000 kernel=linear\n",
      "68.321% training accuracy for C=3.162 gamma=0.010 kernel=linear\n",
      "68.321% training accuracy for C=3.162 gamma=0.178 kernel=linear\n",
      "68.321% training accuracy for C=3.162 gamma=3.162 kernel=linear\n",
      "68.321% training accuracy for C=3.162 gamma=56.234 kernel=linear\n",
      "68.321% training accuracy for C=3.162 gamma=1000.000 kernel=linear\n",
      "64.049% training accuracy for C=56.234 gamma=0.010 kernel=linear\n",
      "64.049% training accuracy for C=56.234 gamma=0.178 kernel=linear\n",
      "64.049% training accuracy for C=56.234 gamma=3.162 kernel=linear\n",
      "64.049% training accuracy for C=56.234 gamma=56.234 kernel=linear\n",
      "64.049% training accuracy for C=56.234 gamma=1000.000 kernel=linear\n",
      "61.829% training accuracy for C=1000.000 gamma=0.010 kernel=linear\n",
      "61.829% training accuracy for C=1000.000 gamma=0.178 kernel=linear\n",
      "61.829% training accuracy for C=1000.000 gamma=3.162 kernel=linear\n",
      "61.829% training accuracy for C=1000.000 gamma=56.234 kernel=linear\n",
      "61.829% training accuracy for C=1000.000 gamma=1000.000 kernel=linear\n",
      "Fitting 5 folds for each of 50 candidates, totalling 250 fits\n"
     ]
    },
    {
     "name": "stderr",
     "output_type": "stream",
     "text": [
      "[Parallel(n_jobs=1)]: Using backend SequentialBackend with 1 concurrent workers.\n",
      "[Parallel(n_jobs=1)]: Done 250 out of 250 | elapsed:  6.5min finished\n"
     ]
    }
   ],
   "source": [
    "%time\n",
    "print(\"Testing SVM Classifier ...\\n\")\n",
    "\n",
    "# set the hyperparams\n",
    "C = np.logspace(-2,2,5)\n",
    "G = np.logspace(-2,2,5)\n",
    "K = [\"rbf\", \"linear\"]\n",
    "\n",
    "param_grid = {\"C\":C, \"gamma\": G, \"kernel\": K}\n",
    "\n",
    "# fetch all the estimators given the chosen hyperparameters\n",
    "estimators = SVC.train_all_estimators(X_train, y_train, C, G, K)\n",
    "\n",
    "# perform hyperparam search\n",
    "grid_search = SVC.perform_hyperparam_grid_search(X_train,y_train, param_grid)\n",
    "\n",
    "best_estimator = grid_search.best_estimator_\n",
    "hyperparams = grid_search.best_params_\n",
    "score = grid_search.best_score_*100"
   ]
  },
  {
   "cell_type": "markdown",
   "metadata": {},
   "source": [
    "## Calculate Estimator scores and Overall Overfitting"
   ]
  },
  {
   "cell_type": "code",
   "execution_count": 19,
   "metadata": {},
   "outputs": [
    {
     "name": "stdout",
     "output_type": "stream",
     "text": [
      "\n",
      "SVC overfitting: 0.228\n",
      "\n",
      "Best SVC estimator accuracy: 77.147%\n",
      "Hyperparams:\n",
      "C: 0.1778279410038923\n",
      "gamma: 0.1778279410038923\n",
      "kernel: rbf\n",
      "\n"
     ]
    },
    {
     "data": {
      "image/png": "[encoded data removed]",
      "text/plain": [
       "<Figure size 432x288 with 1 Axes>"
      ]
     },
     "metadata": {
      "needs_background": "light"
     },
     "output_type": "display_data"
    }
   ],
   "source": [
    "# calculate the training and testing scores and plot the result\n",
    "trn_scores, test_scores = tools.calculate_estimator_scores([X_train, X_test, y_train, y_test], estimators)\n",
    "\n",
    "# calculate model overfitting\n",
    "overfitting = tools.determine_overfitting(trn_scores,test_scores)\n",
    "print(\"\\nSVC overfitting: {:.3f}\\n\".format(overfitting))\n",
    "\n",
    "# plot the scores of each estimator\n",
    "tools.plot_estimator_scores(\"SVC\",trn_scores,test_scores)\n",
    "\n",
    "# display details of best estimator\n",
    "tools.display_best_estimator(score, \"SVC\", hyperparams)\n"
   ]
  },
  {
   "cell_type": "markdown",
   "metadata": {},
   "source": [
    "## Classify Data"
   ]
  },
  {
   "cell_type": "code",
   "execution_count": 20,
   "metadata": {},
   "outputs": [
    {
     "name": "stdout",
     "output_type": "stream",
     "text": [
      "Printing metrics...\n",
      "mean squared error: 22.865%\n",
      "accuracy: 77.135%\n",
      "recall: 84.448%\n",
      "precision: 74.675%\n",
      "f1: 79.262%\n",
      "jacccard: 65.648%\n",
      "\n"
     ]
    },
    {
     "data": {
      "text/plain": [
       "<Figure size 432x288 with 0 Axes>"
      ]
     },
     "metadata": {},
     "output_type": "display_data"
    },
    {
     "data": {
      "image/png": "[encoded data removed]",
      "text/plain": [
       "<Figure size 792x288 with 2 Axes>"
      ]
     },
     "metadata": {},
     "output_type": "display_data"
    }
   ],
   "source": [
    "# use best estimator to make predictions\n",
    "y_pred = SVC.support_vector_machine_predict(best_estimator, X_test)\n",
    "\n",
    "tools.plot_predicted_labels(y_test, y_pred, \"SVC\")\n",
    "tools.display_prediction_scores(y_test,y_pred)"
   ]
  },
  {
   "cell_type": "markdown",
   "metadata": {},
   "source": [
    "## Confusion Matrix"
   ]
  },
  {
   "cell_type": "code",
   "execution_count": 21,
   "metadata": {},
   "outputs": [
    {
     "name": "stdout",
     "output_type": "stream",
     "text": [
      "Plotting confusion matrix for SVC Classifier...\n"
     ]
    },
    {
     "data": {
      "image/png": "[encoded data removed]",
      "text/plain": [
       "<Figure size 432x288 with 2 Axes>"
      ]
     },
     "metadata": {
      "needs_background": "light"
     },
     "output_type": "display_data"
    }
   ],
   "source": [
    "tools.plot_confusion_matrix(y_test,y_pred,\"SVC\")"
   ]
  },
  {
   "cell_type": "markdown",
   "metadata": {},
   "source": [
    "# Naive Bayes Classifier\n",
    "## Hyperparameter search + training"
   ]
  },
  {
   "cell_type": "code",
   "execution_count": 22,
   "metadata": {},
   "outputs": [
    {
     "name": "stdout",
     "output_type": "stream",
     "text": [
      "Testing Naive Bayesian Classifier ...\n",
      "\n",
      "Fitting data to NaiveBayes Classifier, this may take a while...\n",
      "86.808% training accuracy for alpha=1.0000 fit_prior=True\n",
      "86.804% training accuracy for alpha=1.2589 fit_prior=True\n",
      "86.817% training accuracy for alpha=1.5849 fit_prior=True\n",
      "86.804% training accuracy for alpha=1.9953 fit_prior=True\n",
      "86.804% training accuracy for alpha=2.5119 fit_prior=True\n",
      "86.804% training accuracy for alpha=3.1623 fit_prior=True\n",
      "86.814% training accuracy for alpha=3.9811 fit_prior=True\n",
      "86.808% training accuracy for alpha=5.0119 fit_prior=True\n",
      "86.808% training accuracy for alpha=6.3096 fit_prior=True\n",
      "86.814% training accuracy for alpha=7.9433 fit_prior=True\n",
      "86.814% training accuracy for alpha=10.0000 fit_prior=True\n",
      "86.814% training accuracy for alpha=12.5893 fit_prior=True\n",
      "86.823% training accuracy for alpha=15.8489 fit_prior=True\n",
      "86.808% training accuracy for alpha=19.9526 fit_prior=True\n",
      "86.814% training accuracy for alpha=25.1189 fit_prior=True\n",
      "86.798% training accuracy for alpha=31.6228 fit_prior=True\n",
      "86.789% training accuracy for alpha=39.8107 fit_prior=True\n",
      "86.814% training accuracy for alpha=50.1187 fit_prior=True\n",
      "86.765% training accuracy for alpha=63.0957 fit_prior=True\n",
      "86.709% training accuracy for alpha=79.4328 fit_prior=True\n",
      "86.660% training accuracy for alpha=100.0000 fit_prior=True\n",
      "86.614% training accuracy for alpha=125.8925 fit_prior=True\n",
      "86.540% training accuracy for alpha=158.4893 fit_prior=True\n",
      "86.485% training accuracy for alpha=199.5262 fit_prior=True\n",
      "86.442% training accuracy for alpha=251.1886 fit_prior=True\n",
      "86.368% training accuracy for alpha=316.2278 fit_prior=True\n",
      "86.289% training accuracy for alpha=398.1072 fit_prior=True\n",
      "86.166% training accuracy for alpha=501.1872 fit_prior=True\n",
      "86.006% training accuracy for alpha=630.9573 fit_prior=True\n",
      "85.748% training accuracy for alpha=794.3282 fit_prior=True\n",
      "85.481% training accuracy for alpha=1000.0000 fit_prior=True\n",
      "85.063% training accuracy for alpha=1258.9254 fit_prior=True\n",
      "84.428% training accuracy for alpha=1584.8932 fit_prior=True\n",
      "83.543% training accuracy for alpha=1995.2623 fit_prior=True\n",
      "81.839% training accuracy for alpha=2511.8864 fit_prior=True\n",
      "79.560% training accuracy for alpha=3162.2777 fit_prior=True\n",
      "76.118% training accuracy for alpha=3981.0717 fit_prior=True\n",
      "71.290% training accuracy for alpha=5011.8723 fit_prior=True\n",
      "65.106% training accuracy for alpha=6309.5734 fit_prior=True\n",
      "58.826% training accuracy for alpha=7943.2823 fit_prior=True\n",
      "54.198% training accuracy for alpha=10000.0000 fit_prior=True\n",
      "52.426% training accuracy for alpha=12589.2541 fit_prior=True\n",
      "52.199% training accuracy for alpha=15848.9319 fit_prior=True\n",
      "52.199% training accuracy for alpha=19952.6231 fit_prior=True\n",
      "52.199% training accuracy for alpha=25118.8643 fit_prior=True\n",
      "52.199% training accuracy for alpha=31622.7766 fit_prior=True\n",
      "52.199% training accuracy for alpha=39810.7171 fit_prior=True\n",
      "52.199% training accuracy for alpha=50118.7234 fit_prior=True\n",
      "52.199% training accuracy for alpha=63095.7344 fit_prior=True\n",
      "52.199% training accuracy for alpha=79432.8235 fit_prior=True\n",
      "52.199% training accuracy for alpha=100000.0000 fit_prior=True\n",
      "85.100% training accuracy for alpha=1.0000 fit_prior=False\n",
      "85.091% training accuracy for alpha=1.2589 fit_prior=False\n",
      "85.088% training accuracy for alpha=1.5849 fit_prior=False\n",
      "85.088% training accuracy for alpha=1.9953 fit_prior=False\n",
      "85.085% training accuracy for alpha=2.5119 fit_prior=False\n",
      "85.079% training accuracy for alpha=3.1623 fit_prior=False\n",
      "85.057% training accuracy for alpha=3.9811 fit_prior=False\n",
      "85.054% training accuracy for alpha=5.0119 fit_prior=False\n",
      "85.045% training accuracy for alpha=6.3096 fit_prior=False\n",
      "85.048% training accuracy for alpha=7.9433 fit_prior=False\n",
      "85.039% training accuracy for alpha=10.0000 fit_prior=False\n",
      "85.036% training accuracy for alpha=12.5893 fit_prior=False\n",
      "85.026% training accuracy for alpha=15.8489 fit_prior=False\n",
      "85.002% training accuracy for alpha=19.9526 fit_prior=False\n",
      "85.002% training accuracy for alpha=25.1189 fit_prior=False\n",
      "85.008% training accuracy for alpha=31.6228 fit_prior=False\n",
      "84.971% training accuracy for alpha=39.8107 fit_prior=False\n",
      "84.928% training accuracy for alpha=50.1187 fit_prior=False\n",
      "84.888% training accuracy for alpha=63.0957 fit_prior=False\n",
      "84.818% training accuracy for alpha=79.4328 fit_prior=False\n",
      "84.759% training accuracy for alpha=100.0000 fit_prior=False\n",
      "84.729% training accuracy for alpha=125.8925 fit_prior=False\n",
      "84.633% training accuracy for alpha=158.4893 fit_prior=False\n",
      "84.547% training accuracy for alpha=199.5262 fit_prior=False\n",
      "84.492% training accuracy for alpha=251.1886 fit_prior=False\n",
      "84.400% training accuracy for alpha=316.2278 fit_prior=False\n",
      "84.317% training accuracy for alpha=398.1072 fit_prior=False\n",
      "84.237% training accuracy for alpha=501.1872 fit_prior=False\n",
      "84.160% training accuracy for alpha=630.9573 fit_prior=False\n",
      "84.111% training accuracy for alpha=794.3282 fit_prior=False\n",
      "84.022% training accuracy for alpha=1000.0000 fit_prior=False\n",
      "83.912% training accuracy for alpha=1258.9254 fit_prior=False\n",
      "83.718% training accuracy for alpha=1584.8932 fit_prior=False\n",
      "83.577% training accuracy for alpha=1995.2623 fit_prior=False\n",
      "83.396% training accuracy for alpha=2511.8864 fit_prior=False\n",
      "83.193% training accuracy for alpha=3162.2777 fit_prior=False\n",
      "83.055% training accuracy for alpha=3981.0717 fit_prior=False\n",
      "82.858% training accuracy for alpha=5011.8723 fit_prior=False\n",
      "82.732% training accuracy for alpha=6309.5734 fit_prior=False\n",
      "82.619% training accuracy for alpha=7943.2823 fit_prior=False\n",
      "82.557% training accuracy for alpha=10000.0000 fit_prior=False\n",
      "82.407% training accuracy for alpha=12589.2541 fit_prior=False\n",
      "82.346% training accuracy for alpha=15848.9319 fit_prior=False\n",
      "82.290% training accuracy for alpha=19952.6231 fit_prior=False\n",
      "82.250% training accuracy for alpha=25118.8643 fit_prior=False\n",
      "82.210% training accuracy for alpha=31622.7766 fit_prior=False\n",
      "82.177% training accuracy for alpha=39810.7171 fit_prior=False\n",
      "82.140% training accuracy for alpha=50118.7234 fit_prior=False\n",
      "82.124% training accuracy for alpha=63095.7344 fit_prior=False\n",
      "82.075% training accuracy for alpha=79432.8235 fit_prior=False\n",
      "82.060% training accuracy for alpha=100000.0000 fit_prior=False\n",
      "Fitting 5 folds for each of 102 candidates, totalling 510 fits\n"
     ]
    },
    {
     "name": "stderr",
     "output_type": "stream",
     "text": [
      "[Parallel(n_jobs=1)]: Using backend SequentialBackend with 1 concurrent workers.\n",
      "[Parallel(n_jobs=1)]: Done 510 out of 510 | elapsed:   19.2s finished\n"
     ]
    }
   ],
   "source": [
    "print(\"Testing Naive Bayesian Classifier ...\\n\")\n",
    "\n",
    "# set the hyperparams\n",
    "A = np.logspace(0,50,51)\n",
    "F = [True, False]\n",
    "param_grid = {\"alpha\":A, \"fit_prior\":F}\n",
    "\n",
    "# fetch all the estimators given the chosen hyperparameters\n",
    "estimators = NB.train_all_estimators(X_train, y_train, A , F)\n",
    "\n",
    "# perform hyperparam search\n",
    "grid_search = NB.perform_hyperparam_grid_search(X_train,y_train, param_grid)\n",
    "\n",
    "best_estimator = grid_search.best_estimator_\n",
    "hyperparams = grid_search.best_params_\n",
    "score = grid_search.best_score_*100\n"
   ]
  },
  {
   "cell_type": "markdown",
   "metadata": {},
   "source": [
    "## Calculate Estimator scores and Overall Overfitting"
   ]
  },
  {
   "cell_type": "code",
   "execution_count": 23,
   "metadata": {},
   "outputs": [
    {
     "name": "stdout",
     "output_type": "stream",
     "text": [
      "\n",
      "Naive Bayes overfitting: 0.452\n",
      "\n",
      "Best NaiveBayes estimator accuracy: 86.752%\n",
      "Hyperparams:\n",
      "alpha: 1.9952623149688797\n",
      "fit_prior: True\n",
      "\n"
     ]
    },
    {
     "data": {
      "image/png": "[encoded data removed]",
      "text/plain": [
       "<Figure size 432x288 with 1 Axes>"
      ]
     },
     "metadata": {
      "needs_background": "light"
     },
     "output_type": "display_data"
    }
   ],
   "source": [
    "# calculate the training and testing scores and plot the result\n",
    "trn_scores, test_scores = tools.calculate_estimator_scores([X_train, X_test, y_train, y_test], estimators)\n",
    "\n",
    "# calculate model overfitting\n",
    "overfitting = tools.determine_overfitting(trn_scores,test_scores)\n",
    "print(\"\\nNaive Bayes overfitting: {:.3f}\\n\".format(overfitting))\n",
    "\n",
    "# plot the scores of each estimator\n",
    "tools.plot_estimator_scores(\"NaiveBayes\",trn_scores,test_scores)\n",
    "\n",
    "# display details of best estimator\n",
    "tools.display_best_estimator(score, \"NaiveBayes\", hyperparams)"
   ]
  },
  {
   "cell_type": "markdown",
   "metadata": {},
   "source": [
    "## Classify Data"
   ]
  },
  {
   "cell_type": "code",
   "execution_count": 24,
   "metadata": {},
   "outputs": [
    {
     "name": "stdout",
     "output_type": "stream",
     "text": [
      "Printing metrics...\n",
      "mean squared error: 13.586%\n",
      "accuracy: 86.414%\n",
      "recall: 87.024%\n",
      "precision: 86.760%\n",
      "f1: 86.892%\n",
      "jacccard: 76.822%\n",
      "\n"
     ]
    },
    {
     "data": {
      "text/plain": [
       "<Figure size 432x288 with 0 Axes>"
      ]
     },
     "metadata": {},
     "output_type": "display_data"
    },
    {
     "data": {
      "image/png": "[encoded data removed]",
      "text/plain": [
       "<Figure size 792x288 with 2 Axes>"
      ]
     },
     "metadata": {},
     "output_type": "display_data"
    }
   ],
   "source": [
    "# use best estimator to make predictions\n",
    "y_pred = NB.naive_bayesian_predict(best_estimator, X_test)\n",
    "\n",
    "tools.plot_predicted_labels(y_test, y_pred, \"NaiveBayes\")\n",
    "tools.display_prediction_scores(y_test,y_pred)"
   ]
  },
  {
   "cell_type": "markdown",
   "metadata": {},
   "source": [
    "## Confusion Matrix"
   ]
  },
  {
   "cell_type": "code",
   "execution_count": 25,
   "metadata": {},
   "outputs": [
    {
     "name": "stdout",
     "output_type": "stream",
     "text": [
      "Plotting confusion matrix for NaiveBayes Classifier...\n"
     ]
    },
    {
     "data": {
      "image/png": "[encoded data removed]",
      "text/plain": [
       "<Figure size 432x288 with 2 Axes>"
      ]
     },
     "metadata": {
      "needs_background": "light"
     },
     "output_type": "display_data"
    }
   ],
   "source": [
    "tools.plot_confusion_matrix(y_test,y_pred,\"NaiveBayes\")\n",
    "\n",
    "tools.display_result(best_estimator, X_train)"
   ]
  },
  {
   "cell_type": "markdown",
   "metadata": {},
   "source": [
    "# Deep Learning - Convolutional Neural Network Classifier\n",
    "\n",
    "### Now we compare deep learning classification to our traditional Machine Learning models...\n",
    "\n",
    "## Set model and training parameters"
   ]
  },
  {
   "cell_type": "code",
   "execution_count": 26,
   "metadata": {},
   "outputs": [],
   "source": [
    "# params for CNN model\n",
    "seq_len = 219\n",
    "if use_full_dataset: \n",
    "    seq_len = 216\n",
    "    \n",
    "model_params = {\n",
    "    # text preprocessing\n",
    "    \"seq_len\": seq_len,\n",
    "    \"num_words\": 10000,\n",
    "    \"embedding_size\": 64,\n",
    "\n",
    "    # size of convolution outputs\n",
    "    \"conv_out_size\": 32,\n",
    "\n",
    "    # Number of strides for each convolution\n",
    "    \"stride\": 2,\n",
    "\n",
    "    # kernel sizes\n",
    "    \"kernel_sizes\": [2,3,4,5]\n",
    "}\n",
    "\n",
    "# training parameters\n",
    "epochs = 24\n",
    "batch_size = 108\n",
    "learning_rate = 0.0001"
   ]
  },
  {
   "cell_type": "markdown",
   "metadata": {},
   "source": [
    "## Construct the CNN model"
   ]
  },
  {
   "cell_type": "code",
   "execution_count": 27,
   "metadata": {},
   "outputs": [
    {
     "data": {
      "text/plain": [
       "CnnModel(\n",
       "  (dropout): Dropout(p=0.25, inplace=False)\n",
       "  (embedding): Embedding(10001, 64, padding_idx=0)\n",
       "  (conv_layers_1): Conv1d(216, 32, kernel_size=(2,), stride=(2,))\n",
       "  (conv_layers_2): Conv1d(216, 32, kernel_size=(3,), stride=(2,))\n",
       "  (conv_layers_3): Conv1d(216, 32, kernel_size=(4,), stride=(2,))\n",
       "  (conv_layers_4): Conv1d(216, 32, kernel_size=(5,), stride=(2,))\n",
       "  (pool_layers_1): MaxPool1d(kernel_size=2, stride=2, padding=0, dilation=1, ceil_mode=False)\n",
       "  (pool_layers_2): MaxPool1d(kernel_size=3, stride=2, padding=0, dilation=1, ceil_mode=False)\n",
       "  (pool_layers_3): MaxPool1d(kernel_size=4, stride=2, padding=0, dilation=1, ceil_mode=False)\n",
       "  (pool_layers_4): MaxPool1d(kernel_size=5, stride=2, padding=0, dilation=1, ceil_mode=False)\n",
       "  (fully_connected): Linear(in_features=1856, out_features=1, bias=True)\n",
       ")"
      ]
     },
     "execution_count": 27,
     "metadata": {},
     "output_type": "execute_result"
    }
   ],
   "source": [
    "model = CNN.CnnModel(model_params)\n",
    "model"
   ]
  },
  {
   "cell_type": "markdown",
   "metadata": {},
   "source": [
    "## Train the CNN"
   ]
  },
  {
   "cell_type": "code",
   "execution_count": null,
   "metadata": {},
   "outputs": [
    {
     "name": "stdout",
     "output_type": "stream",
     "text": [
      "Epoch: 1, loss: 137.32928, Train accuracy: 77.82828%, Test accuracy: 88.04099%\n",
      "Epoch: 2, loss: 117.89744, Train accuracy: 79.76600%, Test accuracy: 89.45257%\n",
      "Epoch: 3, loss: 110.51788, Train accuracy: 81.05270%, Test accuracy: 90.03296%\n",
      "Epoch: 4, loss: 105.74556, Train accuracy: 81.60852%, Test accuracy: 90.87848%\n",
      "Epoch: 5, loss: 101.14230, Train accuracy: 82.08758%, Test accuracy: 91.39438%\n",
      "Epoch: 6, loss: 97.41122, Train accuracy: 82.66184%, Test accuracy: 91.76698%\n",
      "Epoch: 7, loss: 93.20401, Train accuracy: 83.25759%, Test accuracy: 92.06793%\n",
      "Epoch: 8, loss: 89.76153, Train accuracy: 83.77349%, Test accuracy: 92.26856%\n",
      "Epoch: 9, loss: 86.93687, Train accuracy: 84.15428%, Test accuracy: 92.78447%\n",
      "Epoch: 10, loss: 83.51082, Train accuracy: 84.68247%, Test accuracy: 92.82029%\n",
      "Epoch: 11, loss: 80.40596, Train accuracy: 84.78995%, Test accuracy: 93.10691%\n",
      "Epoch: 12, loss: 77.87376, Train accuracy: 85.32428%, Test accuracy: 93.35770%\n"
     ]
    }
   ],
   "source": [
    "X_train, X_test, y_train, y_test = cnn_data\n",
    "train_accuracies, test_accuracies, train_losses, test_losses \\\n",
    "    = CNN.train_cnn(\n",
    "        model, \n",
    "        X_train, \n",
    "        X_test, \n",
    "        y_train, \n",
    "        y_test, \n",
    "        epochs, \n",
    "        batch_size, \n",
    "        learning_rate\n",
    "    )\n",
    "print(train_accuracies[0], test_accuracies[0], train_losses[0], test_losses[0])"
   ]
  },
  {
   "cell_type": "markdown",
   "metadata": {},
   "source": [
    "## Plot Training + Test Prediction Accuracies for each Epoch"
   ]
  },
  {
   "cell_type": "code",
   "execution_count": null,
   "metadata": {},
   "outputs": [],
   "source": [
    "tools.plot_cnn_accuracies(train_accuracies,test_accuracies, \"CNN\", epochs, batch_size, learning_rate)\n"
   ]
  },
  {
   "cell_type": "markdown",
   "metadata": {},
   "source": [
    "## Plot Training + Test Prediction Losses for each Epoch"
   ]
  },
  {
   "cell_type": "code",
   "execution_count": null,
   "metadata": {},
   "outputs": [],
   "source": [
    "tools.plot_cnn_losses(train_losses, test_losses, \"CNN\", epochs, batch_size, learning_rate)"
   ]
  },
  {
   "cell_type": "markdown",
   "metadata": {},
   "source": [
    "## Classify Data"
   ]
  },
  {
   "cell_type": "code",
   "execution_count": null,
   "metadata": {},
   "outputs": [],
   "source": [
    "data = DataLoader(CnnDataset(X_test, y_test), batch_size=batch_size)\n",
    "y_pred, loss = evaluation(model, data)\n",
    "\n",
    "y_pred_labels = tools.calculate_neural_net_predicted_labels(y_pred)\n",
    "accuracy = tools.calculate_neural_net_accuracy(y_test.values, y_pred)\n",
    "print(\"Convolutional Neural Network prediction accuracy: {:.5f}%\".format(accuracy*100))\n",
    "print(\"Convolutional Neural Network prediction loss: {:.5f}\".format(loss.item()))\n",
    "\n",
    "tools.plot_predicted_labels(y_test.values, y_pred_labels, \"CNN\")\n",
    "tools.display_prediction_scores(y_test.values,y_pred_labels)\n"
   ]
  },
  {
   "cell_type": "code",
   "execution_count": null,
   "metadata": {},
   "outputs": [],
   "source": [
    "## Confusion Matrix"
   ]
  },
  {
   "cell_type": "code",
   "execution_count": null,
   "metadata": {},
   "outputs": [],
   "source": [
    "tools.plot_confusion_matrix(y_test.values,y_pred_labels,\"CNN\")"
   ]
  },
  {
   "cell_type": "raw",
   "metadata": {},
   "source": []
  }
 ],
 "metadata": {
  "kernelspec": {
   "display_name": "Python 3",
   "language": "python",
   "name": "python3"
  },
  "language_info": {
   "codemirror_mode": {
    "name": "ipython",
    "version": 3
   },
   "file_extension": ".py",
   "mimetype": "text/x-python",
   "name": "python",
   "nbconvert_exporter": "python",
   "pygments_lexer": "ipython3",
   "version": "3.8.3"
  }
 },
 "nbformat": 4,
 "nbformat_minor": 4
}
