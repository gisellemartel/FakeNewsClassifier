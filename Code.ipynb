{
 "cells": [
  {
   "cell_type": "raw",
   "metadata": {},
   "source": [
    "432 Project - Fall 2020\n",
    "\n",
    "Student Names:\n",
    "Firas Sawan       ID#26487815 \n",
    "Giselle Martel    ID#26352936"
   ]
  },
  {
   "cell_type": "code",
   "execution_count": 3,
   "metadata": {},
   "outputs": [],
   "source": [
    "import preprocessing.preprocess as preprocess"
   ]
  },
  {
   "cell_type": "code",
   "execution_count": 4,
   "metadata": {},
   "outputs": [
    {
     "name": "stdout",
     "output_type": "stream",
     "text": [
      "Parsing news dataset from file: Fake_test.csv\n",
      "Setting label for news dataset: FAKE\n",
      "Parsing news dataset from file: True_test.csv\n",
      "Setting label for news dataset: REAL\n",
      "Tokenizing fake_news dataset, this may take a few minutes...\n",
      "Tokenizing real_news dataset, this may take a few minutes...\n",
      "Preview of parsed data:\n",
      "                                               title  \\\n",
      "0  FLASHBACK: KING OBAMA COMMUTES SENTENCES OF 22...   \n",
      "1  APPLE’S CEO SAYS RELIGIOUS FREEDOM LAWS ARE ‘D...   \n",
      "2  WATCH DIRTY HARRY REID ON HIS LIE ABOUT ROMNEY...   \n",
      "3  OH NO! GUESS WHO FUNDED THE SHRINE TO TED KENNEDY   \n",
      "4  BENGHAZI PANEL CALLS HILLARY TO TESTIFY UNDER ...   \n",
      "5  HILLARY RODHAM NIXON: A CANDIDATE WITH MORE BA...   \n",
      "6  WATCH DIRTY HARRY REID ON HIS LIE ABOUT ROMNEY...   \n",
      "7  HILLARY RODHAM NIXON: A CANDIDATE WITH MORE BA...   \n",
      "8  MUSLIM WOMAN ARRESTED FOR SPITTING ON HER FELL...   \n",
      "0  As U.S. budget fight looms, Republicans flip t...   \n",
      "1  U.S. military to accept transgender recruits o...   \n",
      "2  Senior U.S. Republican senator: 'Let Mr. Muell...   \n",
      "3  FBI Russia probe helped by Australian diplomat...   \n",
      "4  Trump wants Postal Service to charge 'much mor...   \n",
      "5  White House, Congress prepare for talks on spe...   \n",
      "6  Trump says Russia probe will be fair, but time...   \n",
      "7  Factbox: Trump on Twitter (Dec 29) - Approval ...   \n",
      "8         Trump on Twitter (Dec 28) - Global Warming   \n",
      "\n",
      "                                                text       subject       date  \\\n",
      "0  Just making room for Hillary President Obama t...      politics 2015-03-31   \n",
      "1  The gay mafia has a new corporate  Don. This i...      politics 2015-03-31   \n",
      "2  In case you missed it Sen. Harry Reid (R-NV), ...      politics 2015-03-31   \n",
      "3  Nothing like political cronyism to make your s...      politics 2015-03-31   \n",
      "4  Does anyone really think Hillary Clinton will ...      politics 2015-03-31   \n",
      "5  The irony here isn t lost on us. Hillary is be...      politics 2015-03-31   \n",
      "6  In case you missed it Sen. Harry Reid (R-NV), ...     left-news 2015-03-31   \n",
      "7  The irony here isn t lost on us. Hillary is be...     left-news 2015-03-31   \n",
      "8  This woman s having trouble entering the Walma...      politics 2015-04-01   \n",
      "0  WASHINGTON (Reuters) - The head of a conservat...  politicsNews 2017-12-31   \n",
      "1  WASHINGTON (Reuters) - Transgender people will...  politicsNews 2017-12-29   \n",
      "2  WASHINGTON (Reuters) - The special counsel inv...  politicsNews 2017-12-31   \n",
      "3  WASHINGTON (Reuters) - Trump campaign adviser ...  politicsNews 2017-12-30   \n",
      "4  SEATTLE/WASHINGTON (Reuters) - President Donal...  politicsNews 2017-12-29   \n",
      "5  WEST PALM BEACH, Fla./WASHINGTON (Reuters) - T...  politicsNews 2017-12-29   \n",
      "6  WEST PALM BEACH, Fla (Reuters) - President Don...  politicsNews 2017-12-29   \n",
      "7  The following statements were posted to the ve...  politicsNews 2017-12-29   \n",
      "8  The following statements were posted to the ve...  politicsNews 2017-12-29   \n",
      "\n",
      "  label  \n",
      "0  FAKE  \n",
      "1  FAKE  \n",
      "2  FAKE  \n",
      "3  FAKE  \n",
      "4  FAKE  \n",
      "5  FAKE  \n",
      "6  FAKE  \n",
      "7  FAKE  \n",
      "8  FAKE  \n",
      "0  REAL  \n",
      "1  REAL  \n",
      "2  REAL  \n",
      "3  REAL  \n",
      "4  REAL  \n",
      "5  REAL  \n",
      "6  REAL  \n",
      "7  REAL  \n",
      "8  REAL  \n",
      "Splitting data: 70% training, 30% testing\n",
      "(12,) (6,)\n",
      "(12, 1) (6, 1)\n"
     ]
    }
   ],
   "source": [
    "fake_news = preprocess.parse_dataset(\"Fake_test.csv\", \"FAKE\")\n",
    "real_news = preprocess.parse_dataset(\"True_test.csv\", \"REAL\")\n",
    "\n",
    "fake_news_all_tokens, fake_news_tokens_per_article = preprocess.tokenize(fake_news, \"fake_news\")\n",
    "real_news_all_tokens, real_news_tokens_per_article = preprocess.tokenize(real_news, \"real_news\")\n",
    "\n",
    "# join tokens and data together\n",
    "all_tokens = fake_news_all_tokens + real_news_all_tokens\n",
    "tokens_per_article = fake_news_tokens_per_article + real_news_tokens_per_article\n",
    "\n",
    "all_news = pd.concat([fake_news, real_news], axis=0)\n",
    "\n",
    "print(\"Preview of parsed data:\")\n",
    "print(all_news)\n",
    "\n",
    "# join the data and pass it to split data\n",
    "X_train, X_test, y_train, y_test = preprocess.split_and_preprocess(all_tokens,tokens_per_article, all_news)"
   ]
  },
  {
   "cell_type": "code",
   "execution_count": null,
   "metadata": {},
   "outputs": [],
   "source": []
  }
 ],
 "metadata": {
  "kernelspec": {
   "display_name": "Python 3",
   "language": "python",
   "name": "python3"
  },
  "language_info": {
   "codemirror_mode": {
    "name": "ipython",
    "version": 3
   },
   "file_extension": ".py",
   "mimetype": "text/x-python",
   "name": "python",
   "nbconvert_exporter": "python",
   "pygments_lexer": "ipython3",
   "version": "3.8.3"
  }
 },
 "nbformat": 4,
 "nbformat_minor": 4
}
