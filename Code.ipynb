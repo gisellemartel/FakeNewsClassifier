{
 "cells": [
  {
   "cell_type": "raw",
   "metadata": {},
   "source": [
    "432 Project - Fall 2020\n",
    "\n",
    "Student Names:\n",
    "Firas Sawan       ID#26487815 \n",
    "Giselle Martel    ID#26352936"
   ]
  },
  {
   "cell_type": "code",
   "execution_count": 1,
   "metadata": {},
   "outputs": [],
   "source": [
    "import preprocessing.preprocess as preprocess\n",
    "import pandas as pd\n",
    "import model.naive_bayesian_classifier as NB\n",
    "import model.random_forest as RF"
   ]
  },
  {
   "cell_type": "code",
   "execution_count": 2,
   "metadata": {},
   "outputs": [
    {
     "name": "stdout",
     "output_type": "stream",
     "text": [
      "Parsing news dataset from file: Fake.csv\n",
      "Setting label for news dataset: FAKE\n",
      "Parsing news dataset from file: True.csv\n",
      "Setting label for news dataset: REAL\n",
      "Tokenizing fake_news dataset, this may take a few minutes...\n",
      "Tokenizing real_news dataset, this may take a few minutes...\n",
      "Splitting data: 70% training, 30% testing\n",
      "(31406,) (13461,)\n",
      "(31406, 1) (13461, 1)\n",
      "Stored 'X_train' (DataFrame)\n",
      "Stored 'X_test' (DataFrame)\n",
      "Stored 'y_train' (DataFrame)\n",
      "Stored 'y_test' (DataFrame)\n"
     ]
    }
   ],
   "source": [
    "fake_news = preprocess.parse_dataset(\"Fake.csv\", \"FAKE\")\n",
    "real_news = preprocess.parse_dataset(\"True.csv\", \"REAL\")\n",
    "\n",
    "fake_news_all_tokens, fake_news_tokens_per_article = preprocess.tokenize(fake_news, \"fake_news\")\n",
    "real_news_all_tokens, real_news_tokens_per_article = preprocess.tokenize(real_news, \"real_news\")\n",
    "\n",
    "# join tokens and data together\n",
    "all_tokens = fake_news_all_tokens + real_news_all_tokens\n",
    "tokens_per_article = fake_news_tokens_per_article + real_news_tokens_per_article\n",
    "\n",
    "all_news = pd.concat([fake_news, real_news], axis=0)\n",
    "\n",
    "# print(\"Preview of parsed data:\")\n",
    "# print(all_news)\n",
    "\n",
    "# join the data and pass it to split data\n",
    "X_train, X_test, y_train, y_test = preprocess.split_and_preprocess(all_tokens,tokens_per_article, all_news)\n",
    "%store X_train\n",
    "%store X_test\n",
    "%store y_train\n",
    "%store y_test"
   ]
  },
  {
   "cell_type": "code",
   "execution_count": 3,
   "metadata": {},
   "outputs": [
    {
     "name": "stdout",
     "output_type": "stream",
     "text": [
      "Model accuracy is: 92.3%\n",
      "Model mean Squared Error is: 2.77%\n"
     ]
    },
    {
     "data": {
      "image/png": "[encoded data removed]",
      "text/plain": [
       "<Figure size 432x288 with 2 Axes>"
      ]
     },
     "metadata": {
      "needs_background": "light"
     },
     "output_type": "display_data"
    }
   ],
   "source": [
    "# Naive Bayes Classifier\n",
    "NB.Naive_Bayesian(X_train, X_test, y_train, y_test)"
   ]
  },
  {
   "cell_type": "code",
   "execution_count": null,
   "metadata": {},
   "outputs": [
    {
     "name": "stdout",
     "output_type": "stream",
     "text": [
      "\tEvaluating at depth value: 50\n",
      "\tEvaluating at depth value: 60\n",
      "\tEvaluating at depth value: 70\n"
     ]
    }
   ],
   "source": [
    "RF.Random_Forest(X_train, X_test, y_train, y_test)"
   ]
  },
  {
   "cell_type": "code",
   "execution_count": null,
   "metadata": {},
   "outputs": [],
   "source": []
  }
 ],
 "metadata": {
  "kernelspec": {
   "display_name": "Python 3",
   "language": "python",
   "name": "python3"
  },
  "language_info": {
   "codemirror_mode": {
    "name": "ipython",
    "version": 3
   },
   "file_extension": ".py",
   "mimetype": "text/x-python",
   "name": "python",
   "nbconvert_exporter": "python",
   "pygments_lexer": "ipython3",
   "version": "3.8.3"
  }
 },
 "nbformat": 4,
 "nbformat_minor": 4
}
